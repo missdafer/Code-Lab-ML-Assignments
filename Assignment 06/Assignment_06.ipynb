{
  "nbformat": 4,
  "nbformat_minor": 0,
  "metadata": {
    "colab": {
      "name": "Assignment 06.ipynb",
      "provenance": []
    },
    "kernelspec": {
      "name": "python3",
      "display_name": "Python 3"
    },
    "accelerator": "GPU"
  },
  "cells": [
    {
      "cell_type": "code",
      "metadata": {
        "id": "ayQlHGwY-Xpv"
      },
      "source": [
        "import pandas as pd\r\n",
        "import tensorflow as tf"
      ],
      "execution_count": 1,
      "outputs": []
    },
    {
      "cell_type": "code",
      "metadata": {
        "id": "MEDst5-GBjOe"
      },
      "source": [
        "# setting the global seed to ensure having reproducible results\r\n",
        "tf.random.set_seed(42)"
      ],
      "execution_count": 2,
      "outputs": []
    },
    {
      "cell_type": "markdown",
      "metadata": {
        "id": "ofd3LqkMDMta"
      },
      "source": [
        "## Reading the data from CSV files"
      ]
    },
    {
      "cell_type": "code",
      "metadata": {
        "id": "ocHsuXn7CAsK"
      },
      "source": [
        "train_df = pd.read_csv('Emoji Data/train.csv')"
      ],
      "execution_count": 3,
      "outputs": []
    },
    {
      "cell_type": "code",
      "metadata": {
        "id": "Oewu8JNSCgBW"
      },
      "source": [
        "test_df = pd.read_csv('Emoji Data/test.csv')"
      ],
      "execution_count": 4,
      "outputs": []
    },
    {
      "cell_type": "code",
      "metadata": {
        "colab": {
          "base_uri": "https://localhost:8080/",
          "height": 195
        },
        "id": "DetE68SeCneb",
        "outputId": "599abd0d-4275-41ce-f5ec-cb30ba31e43a"
      },
      "source": [
        "train_df.head()"
      ],
      "execution_count": 5,
      "outputs": [
        {
          "output_type": "execute_result",
          "data": {
            "text/html": [
              "<div>\n",
              "<style scoped>\n",
              "    .dataframe tbody tr th:only-of-type {\n",
              "        vertical-align: middle;\n",
              "    }\n",
              "\n",
              "    .dataframe tbody tr th {\n",
              "        vertical-align: top;\n",
              "    }\n",
              "\n",
              "    .dataframe thead th {\n",
              "        text-align: right;\n",
              "    }\n",
              "</style>\n",
              "<table border=\"1\" class=\"dataframe\">\n",
              "  <thead>\n",
              "    <tr style=\"text-align: right;\">\n",
              "      <th></th>\n",
              "      <th>text</th>\n",
              "      <th>emotion</th>\n",
              "      <th>emoji</th>\n",
              "    </tr>\n",
              "  </thead>\n",
              "  <tbody>\n",
              "    <tr>\n",
              "      <th>0</th>\n",
              "      <td>i didnt feel humiliated</td>\n",
              "      <td>sadness</td>\n",
              "      <td>😢</td>\n",
              "    </tr>\n",
              "    <tr>\n",
              "      <th>1</th>\n",
              "      <td>i can go from feeling so hopeless to so damned...</td>\n",
              "      <td>sadness</td>\n",
              "      <td>😢</td>\n",
              "    </tr>\n",
              "    <tr>\n",
              "      <th>2</th>\n",
              "      <td>im grabbing a minute to post i feel greedy wrong</td>\n",
              "      <td>anger</td>\n",
              "      <td>😡</td>\n",
              "    </tr>\n",
              "    <tr>\n",
              "      <th>3</th>\n",
              "      <td>i am ever feeling nostalgic about the fireplac...</td>\n",
              "      <td>love</td>\n",
              "      <td>😍</td>\n",
              "    </tr>\n",
              "    <tr>\n",
              "      <th>4</th>\n",
              "      <td>i am feeling grouchy</td>\n",
              "      <td>anger</td>\n",
              "      <td>😡</td>\n",
              "    </tr>\n",
              "  </tbody>\n",
              "</table>\n",
              "</div>"
            ],
            "text/plain": [
              "                                                text  emotion emoji\n",
              "0                            i didnt feel humiliated  sadness     😢\n",
              "1  i can go from feeling so hopeless to so damned...  sadness     😢\n",
              "2   im grabbing a minute to post i feel greedy wrong    anger     😡\n",
              "3  i am ever feeling nostalgic about the fireplac...     love     😍\n",
              "4                               i am feeling grouchy    anger     😡"
            ]
          },
          "metadata": {
            "tags": []
          },
          "execution_count": 5
        }
      ]
    },
    {
      "cell_type": "code",
      "metadata": {
        "id": "pCxieMT7GBcE"
      },
      "source": [
        "# setting the variables according to the requirements\r\n",
        "vocabulary_size = 10000\r\n",
        "maximum_sequence_length = 64"
      ],
      "execution_count": 6,
      "outputs": []
    },
    {
      "cell_type": "markdown",
      "metadata": {
        "id": "riXWvt_eCKwn"
      },
      "source": [
        "##Preprocessing the data"
      ]
    },
    {
      "cell_type": "markdown",
      "metadata": {
        "id": "z1tUGjADEF_T"
      },
      "source": [
        "### Splitting the data of the training and testing into inputs and targets"
      ]
    },
    {
      "cell_type": "code",
      "metadata": {
        "id": "Hz-MGZuUCsEo"
      },
      "source": [
        "train_text = train_df.text\r\n",
        "train_emoji = train_df.emoji"
      ],
      "execution_count": 7,
      "outputs": []
    },
    {
      "cell_type": "code",
      "metadata": {
        "id": "_q_tzy7WExss"
      },
      "source": [
        "test_text = test_df.text\r\n",
        "test_emoji = test_df.emoji"
      ],
      "execution_count": 8,
      "outputs": []
    },
    {
      "cell_type": "markdown",
      "metadata": {
        "id": "gySJbHSoJOwY"
      },
      "source": [
        "#### Train and test text preprocessing"
      ]
    },
    {
      "cell_type": "code",
      "metadata": {
        "id": "-2Paju8xW6b3"
      },
      "source": [
        "# using this variable with the tokenizer \r\n",
        "training_and_testing_text_data = pd.concat([train_text,test_text])"
      ],
      "execution_count": 9,
      "outputs": []
    },
    {
      "cell_type": "code",
      "metadata": {
        "id": "uQTj01FbE--Q"
      },
      "source": [
        "# Tokenizer vectorize text by turning each text into a sequence of integers\r\n",
        "tokenizer = tf.keras.preprocessing.text.Tokenizer(num_words= vocabulary_size)\r\n",
        "tokenizer.fit_on_texts(training_and_testing_text_data) # tokenize the texts"
      ],
      "execution_count": 10,
      "outputs": []
    },
    {
      "cell_type": "code",
      "metadata": {
        "id": "z86GfWl5HU2G"
      },
      "source": [
        "# transform each text to a sequence of numbers\r\n",
        "train_text_sequences = tokenizer.texts_to_sequences(train_text)\r\n",
        "test_text_sequences = tokenizer.texts_to_sequences(test_text)"
      ],
      "execution_count": 11,
      "outputs": []
    },
    {
      "cell_type": "code",
      "metadata": {
        "id": "Dwje2XJQf8Wq"
      },
      "source": [
        "total_number_of_words = len(tokenizer.word_index)+1"
      ],
      "execution_count": 12,
      "outputs": []
    },
    {
      "cell_type": "code",
      "metadata": {
        "id": "1Tc1X8yAH8BE"
      },
      "source": [
        "# apply padding to the data\r\n",
        "# 'pad_sequences' transforms list of sequences into a 2D numpy arrays of shape (num_samples, maxlen)\r\n",
        "# where maxlen is the length of longest sequence, can be provided as an argument\r\n",
        "train_text_sequences_padded = tf.keras.preprocessing.sequence.pad_sequences(train_text_sequences, maxlen=maximum_sequence_length , padding='post')\r\n",
        "test_text_sequences_padded = tf.keras.preprocessing.sequence.pad_sequences(test_text_sequences, maxlen=maximum_sequence_length , padding='post')"
      ],
      "execution_count": 13,
      "outputs": []
    },
    {
      "cell_type": "markdown",
      "metadata": {
        "id": "H6l6UPZVJjty"
      },
      "source": [
        "#### Train and test emoji/labels preprocessing"
      ]
    },
    {
      "cell_type": "code",
      "metadata": {
        "id": "JWwnSZ-PbtkE"
      },
      "source": [
        "def create_dictionary(column):\r\n",
        "  column_unique_values= column.unique()\r\n",
        "  column_dictionary={}\r\n",
        "  rev_column_dictionary={}\r\n",
        "  for index,element in enumerate(column_unique_values):\r\n",
        "    column_dictionary[element]= index\r\n",
        "    rev_column_dictionary[index]= element\r\n",
        "  return column_dictionary, rev_column_dictionary"
      ],
      "execution_count": 14,
      "outputs": []
    },
    {
      "cell_type": "code",
      "metadata": {
        "id": "o11YnUZIcW1u"
      },
      "source": [
        "emoji_dictionary, reversed_emoji_dictionary = create_dictionary(train_emoji)"
      ],
      "execution_count": 15,
      "outputs": []
    },
    {
      "cell_type": "code",
      "metadata": {
        "id": "5FgQtu5xcvVn"
      },
      "source": [
        "# Replacing non-numeric values with numeric values\r\n",
        "train_emoji.replace(emoji_dictionary, inplace=True)\r\n",
        "test_emoji.replace(emoji_dictionary, inplace=True)"
      ],
      "execution_count": 16,
      "outputs": []
    },
    {
      "cell_type": "code",
      "metadata": {
        "id": "lanl6ASRk_nI"
      },
      "source": [
        "# One Hot encodeing the targets/outputs to get a better prediction\r\n",
        "train_emoji= tf.one_hot(train_emoji, depth=len(set(train_emoji)))\r\n",
        "test_emoji = tf.one_hot(test_emoji, depth=len(set(test_emoji)))"
      ],
      "execution_count": 17,
      "outputs": []
    },
    {
      "cell_type": "code",
      "metadata": {
        "id": "EKGlDE-Skb-a"
      },
      "source": [
        "number_of_classes = len(emoji_dictionary)"
      ],
      "execution_count": 18,
      "outputs": []
    },
    {
      "cell_type": "markdown",
      "metadata": {
        "id": "p4exmA8sdupx"
      },
      "source": [
        "### Implementing 'tf.data' API pipelines"
      ]
    },
    {
      "cell_type": "code",
      "metadata": {
        "id": "JO3aJGTjdrjh"
      },
      "source": [
        "def dataset_creator(x,y):\r\n",
        "  data = tf.data.Dataset.from_tensor_slices((x,y))\r\n",
        "  data = data.shuffle(16000)\r\n",
        "  data = data.batch(64)\r\n",
        "  data = data.prefetch(tf.data.experimental.AUTOTUNE)\r\n",
        "  return data"
      ],
      "execution_count": 19,
      "outputs": []
    },
    {
      "cell_type": "code",
      "metadata": {
        "id": "O6fQyBPae4u8"
      },
      "source": [
        "train_dataset = dataset_creator(train_text_sequences_padded,train_emoji)\r\n",
        "test_dataset = dataset_creator(test_text_sequences_padded, test_emoji)"
      ],
      "execution_count": 20,
      "outputs": []
    },
    {
      "cell_type": "markdown",
      "metadata": {
        "id": "DTlya06RXiHp"
      },
      "source": [
        "## LSTM Model buliding"
      ]
    },
    {
      "cell_type": "code",
      "metadata": {
        "id": "zBnaCgVYXhVQ"
      },
      "source": [
        "# to restart tensorflow state\r\n",
        "del tf\r\n",
        "import tensorflow as tf\r\n",
        "tf.random.set_seed(42)"
      ],
      "execution_count": 155,
      "outputs": []
    },
    {
      "cell_type": "code",
      "metadata": {
        "id": "WkWiT_gbfIt1"
      },
      "source": [
        "model = tf.keras.Sequential ([\r\n",
        "                              tf.keras.layers.Input([64]), # according to the maximum_sequence_length\r\n",
        "                              tf.keras.layers.Embedding(total_number_of_words,64 ), # Embeddings are used mainly for text processing\r\n",
        "                              tf.keras.layers.LSTM(256, return_sequences=True), # Long short-term memory\r\n",
        "                              tf.keras.layers.Dropout(0.5), # using regularization technique to avoid overfitting\r\n",
        "                              tf.keras.layers.LSTM(64),\r\n",
        "                              tf.keras.layers.Dropout(0.5),\r\n",
        "                              tf.keras.layers.Dense(number_of_classes, activation=tf.nn.softmax) #output layer\r\n",
        "])"
      ],
      "execution_count": 156,
      "outputs": []
    },
    {
      "cell_type": "code",
      "metadata": {
        "id": "De-yezjRgpXB"
      },
      "source": [
        "model.compile(optimizer='Adam', loss= tf.losses.CategoricalCrossentropy(), metrics=['acc'])"
      ],
      "execution_count": 157,
      "outputs": []
    },
    {
      "cell_type": "code",
      "metadata": {
        "id": "pzO4fBhwFKwD"
      },
      "source": [
        "# using ModelCheckpoint callback to save the model at the epoch with the best validation accuracy\r\n",
        "model_checkpoint = tf.keras.callbacks.ModelCheckpoint('Zahra_D.h5', monitor='val_acc', save_best_only=True)"
      ],
      "execution_count": 158,
      "outputs": []
    },
    {
      "cell_type": "code",
      "metadata": {
        "colab": {
          "base_uri": "https://localhost:8080/"
        },
        "id": "Z3iQgPDKhAl6",
        "outputId": "9a83e154-20a5-4cb9-bab3-53ce60adef83"
      },
      "source": [
        "model.fit(train_dataset,validation_data=test_dataset,epochs=35, callbacks=[model_checkpoint])"
      ],
      "execution_count": 159,
      "outputs": [
        {
          "output_type": "stream",
          "text": [
            "Epoch 1/35\n",
            "250/250 [==============================] - 19s 63ms/step - loss: 1.6083 - acc: 0.3221 - val_loss: 1.5658 - val_acc: 0.3475\n",
            "Epoch 2/35\n",
            "250/250 [==============================] - 15s 60ms/step - loss: 1.5883 - acc: 0.3304 - val_loss: 1.5596 - val_acc: 0.3475\n",
            "Epoch 3/35\n",
            "250/250 [==============================] - 15s 60ms/step - loss: 1.5845 - acc: 0.3264 - val_loss: 1.5604 - val_acc: 0.3475\n",
            "Epoch 4/35\n",
            "250/250 [==============================] - 15s 60ms/step - loss: 1.5873 - acc: 0.3201 - val_loss: 1.5599 - val_acc: 0.3475\n",
            "Epoch 5/35\n",
            "250/250 [==============================] - 15s 60ms/step - loss: 1.5816 - acc: 0.3368 - val_loss: 1.5609 - val_acc: 0.3475\n",
            "Epoch 6/35\n",
            "250/250 [==============================] - 15s 60ms/step - loss: 1.5732 - acc: 0.3290 - val_loss: 1.5595 - val_acc: 0.3475\n",
            "Epoch 7/35\n",
            "250/250 [==============================] - 15s 60ms/step - loss: 1.5764 - acc: 0.3323 - val_loss: 1.5588 - val_acc: 0.3475\n",
            "Epoch 8/35\n",
            "250/250 [==============================] - 15s 60ms/step - loss: 1.5744 - acc: 0.3323 - val_loss: 1.5617 - val_acc: 0.3475\n",
            "Epoch 9/35\n",
            "250/250 [==============================] - 15s 60ms/step - loss: 1.5860 - acc: 0.3328 - val_loss: 1.5610 - val_acc: 0.3475\n",
            "Epoch 10/35\n",
            "250/250 [==============================] - 15s 60ms/step - loss: 1.5656 - acc: 0.3417 - val_loss: 1.5598 - val_acc: 0.3475\n",
            "Epoch 11/35\n",
            "250/250 [==============================] - 15s 60ms/step - loss: 1.5803 - acc: 0.3369 - val_loss: 1.5599 - val_acc: 0.3475\n",
            "Epoch 12/35\n",
            "250/250 [==============================] - 15s 60ms/step - loss: 1.5715 - acc: 0.3366 - val_loss: 1.5603 - val_acc: 0.3475\n",
            "Epoch 13/35\n",
            "250/250 [==============================] - 15s 60ms/step - loss: 1.5786 - acc: 0.3318 - val_loss: 1.5589 - val_acc: 0.3475\n",
            "Epoch 14/35\n",
            "250/250 [==============================] - 15s 60ms/step - loss: 1.5781 - acc: 0.3314 - val_loss: 1.5616 - val_acc: 0.3475\n",
            "Epoch 15/35\n",
            "250/250 [==============================] - 15s 61ms/step - loss: 1.5669 - acc: 0.3388 - val_loss: 1.4886 - val_acc: 0.3675\n",
            "Epoch 16/35\n",
            "250/250 [==============================] - 15s 61ms/step - loss: 1.5356 - acc: 0.3261 - val_loss: 1.4397 - val_acc: 0.3780\n",
            "Epoch 17/35\n",
            "250/250 [==============================] - 15s 60ms/step - loss: 1.3362 - acc: 0.3897 - val_loss: 1.1068 - val_acc: 0.4905\n",
            "Epoch 18/35\n",
            "250/250 [==============================] - 15s 60ms/step - loss: 1.0323 - acc: 0.5131 - val_loss: 0.9046 - val_acc: 0.5920\n",
            "Epoch 19/35\n",
            "250/250 [==============================] - 15s 60ms/step - loss: 0.8423 - acc: 0.5981 - val_loss: 0.8182 - val_acc: 0.6040\n",
            "Epoch 20/35\n",
            "250/250 [==============================] - 15s 60ms/step - loss: 0.7500 - acc: 0.6369 - val_loss: 0.7759 - val_acc: 0.6635\n",
            "Epoch 21/35\n",
            "250/250 [==============================] - 15s 60ms/step - loss: 0.6066 - acc: 0.7706 - val_loss: 0.4619 - val_acc: 0.8580\n",
            "Epoch 22/35\n",
            "250/250 [==============================] - 15s 60ms/step - loss: 0.3926 - acc: 0.8906 - val_loss: 0.4891 - val_acc: 0.8660\n",
            "Epoch 23/35\n",
            "250/250 [==============================] - 15s 60ms/step - loss: 0.3229 - acc: 0.9093 - val_loss: 0.4227 - val_acc: 0.8775\n",
            "Epoch 24/35\n",
            "250/250 [==============================] - 15s 60ms/step - loss: 0.2739 - acc: 0.9227 - val_loss: 0.4040 - val_acc: 0.8680\n",
            "Epoch 25/35\n",
            "250/250 [==============================] - 15s 61ms/step - loss: 0.2223 - acc: 0.9366 - val_loss: 0.3848 - val_acc: 0.8790\n",
            "Epoch 26/35\n",
            "250/250 [==============================] - 15s 61ms/step - loss: 0.1922 - acc: 0.9429 - val_loss: 0.3515 - val_acc: 0.8825\n",
            "Epoch 27/35\n",
            "250/250 [==============================] - 15s 60ms/step - loss: 0.1874 - acc: 0.9434 - val_loss: 0.3878 - val_acc: 0.8905\n",
            "Epoch 28/35\n",
            "250/250 [==============================] - 15s 60ms/step - loss: 0.1621 - acc: 0.9486 - val_loss: 0.4120 - val_acc: 0.8800\n",
            "Epoch 29/35\n",
            "250/250 [==============================] - 15s 60ms/step - loss: 0.1585 - acc: 0.9501 - val_loss: 0.3924 - val_acc: 0.8980\n",
            "Epoch 30/35\n",
            "250/250 [==============================] - 15s 60ms/step - loss: 0.1351 - acc: 0.9574 - val_loss: 0.3976 - val_acc: 0.8975\n",
            "Epoch 31/35\n",
            "250/250 [==============================] - 15s 60ms/step - loss: 0.1303 - acc: 0.9592 - val_loss: 0.3918 - val_acc: 0.8900\n",
            "Epoch 32/35\n",
            "250/250 [==============================] - 15s 60ms/step - loss: 0.1183 - acc: 0.9631 - val_loss: 0.4291 - val_acc: 0.8900\n",
            "Epoch 33/35\n",
            "250/250 [==============================] - 15s 60ms/step - loss: 0.1280 - acc: 0.9589 - val_loss: 0.3689 - val_acc: 0.8975\n",
            "Epoch 34/35\n",
            "250/250 [==============================] - 15s 60ms/step - loss: 0.1062 - acc: 0.9648 - val_loss: 0.3734 - val_acc: 0.9045\n",
            "Epoch 35/35\n",
            "250/250 [==============================] - 15s 61ms/step - loss: 0.0947 - acc: 0.9697 - val_loss: 0.3848 - val_acc: 0.8915\n"
          ],
          "name": "stdout"
        },
        {
          "output_type": "execute_result",
          "data": {
            "text/plain": [
              "<tensorflow.python.keras.callbacks.History at 0x7fc4154175c0>"
            ]
          },
          "metadata": {
            "tags": []
          },
          "execution_count": 159
        }
      ]
    },
    {
      "cell_type": "code",
      "metadata": {
        "colab": {
          "base_uri": "https://localhost:8080/",
          "height": 282
        },
        "id": "q5uk_aNqLvhl",
        "outputId": "16c335f6-34d9-41ee-e041-fda8a375be0b"
      },
      "source": [
        "# Visualizing the 'loss' and 'val_loss' to display the model preformance during the fitting process\r\n",
        "DNN_fit_history = pd.DataFrame(model.history.history)\r\n",
        "DNN_fit_history[['loss', 'val_loss']].plot.line()"
      ],
      "execution_count": 160,
      "outputs": [
        {
          "output_type": "execute_result",
          "data": {
            "text/plain": [
              "<matplotlib.axes._subplots.AxesSubplot at 0x7fc406c4cdd8>"
            ]
          },
          "metadata": {
            "tags": []
          },
          "execution_count": 160
        },
        {
          "output_type": "display_data",
          "data": {
            "image/png": "[encoded data removed]",
            "text/plain": [
              "<Figure size 432x288 with 1 Axes>"
            ]
          },
          "metadata": {
            "tags": [],
            "needs_background": "light"
          }
        }
      ]
    },
    {
      "cell_type": "markdown",
      "metadata": {
        "id": "FD5ybaGBGpgN"
      },
      "source": [
        "## Test & Results"
      ]
    },
    {
      "cell_type": "markdown",
      "metadata": {
        "id": "XEJiLio5_YBY"
      },
      "source": [
        "Importing the model with the best validation accuracy"
      ]
    },
    {
      "cell_type": "code",
      "metadata": {
        "id": "0jBwIpxP_bhS"
      },
      "source": [
        "best_model = tf.keras.models.load_model('Zahra_D.h5')"
      ],
      "execution_count": 21,
      "outputs": []
    },
    {
      "cell_type": "code",
      "metadata": {
        "id": "VywaPTGs8xQl"
      },
      "source": [
        "def emoji_list():\r\n",
        "  li = []\r\n",
        "  for key in reversed_emoji_dictionary:\r\n",
        "    value = reversed_emoji_dictionary[key]\r\n",
        "    li.append(value)\r\n",
        "  return li"
      ],
      "execution_count": 22,
      "outputs": []
    },
    {
      "cell_type": "code",
      "metadata": {
        "id": "0grd28zP6df3"
      },
      "source": [
        "def prediction(data):\r\n",
        "  tokenized_data = tokenizer.texts_to_sequences([data])\r\n",
        "  text_data_padded = tf.keras.preprocessing.sequence.pad_sequences(tokenized_data, maxlen=maximum_sequence_length, padding='post')\r\n",
        "  pred = best_model.predict(text_data_padded)\r\n",
        "  emoji = emoji_list()\r\n",
        "  # taking the index of the highest prediction and taking the corresponding emoji\r\n",
        "  print(emoji[tf.argmax(pred[0]) ])\r\n"
      ],
      "execution_count": 23,
      "outputs": []
    },
    {
      "cell_type": "markdown",
      "metadata": {
        "id": "c1ocsj_i5pjv"
      },
      "source": [
        "taking an input string using Colab Forms\r\n"
      ]
    },
    {
      "cell_type": "code",
      "metadata": {
        "cellView": "form",
        "id": "5hiW-VpZ7C4d"
      },
      "source": [
        "input_text = \"We had such a lovely dinner tonight\" #@param {type:\"string\"}\n"
      ],
      "execution_count": 24,
      "outputs": []
    },
    {
      "cell_type": "code",
      "metadata": {
        "colab": {
          "base_uri": "https://localhost:8080/"
        },
        "id": "UpQIIWjH7-YI",
        "outputId": "a6334874-09c5-4985-bec2-499542de977e"
      },
      "source": [
        "prediction(input_text)"
      ],
      "execution_count": 25,
      "outputs": [
        {
          "output_type": "stream",
          "text": [
            "😄\n"
          ],
          "name": "stdout"
        }
      ]
    }
  ]
}