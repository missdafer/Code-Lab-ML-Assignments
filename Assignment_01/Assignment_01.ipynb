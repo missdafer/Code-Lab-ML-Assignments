{
  "nbformat": 4,
  "nbformat_minor": 0,
  "metadata": {
    "colab": {
      "name": "Assignment 01.ipynb",
      "provenance": [],
      "toc_visible": true
    },
    "kernelspec": {
      "name": "python3",
      "display_name": "Python 3"
    }
  },
  "cells": [
    {
      "cell_type": "code",
      "metadata": {
        "id": "Ko56QTwFHr6e"
      },
      "source": [
        "import pandas as pd "
      ],
      "execution_count": null,
      "outputs": []
    },
    {
      "cell_type": "markdown",
      "metadata": {
        "id": "zw6C3t5C1wZw"
      },
      "source": [
        "# Reading a CSV file into a DataFrame using Pandas"
      ]
    },
    {
      "cell_type": "code",
      "metadata": {
        "id": "cQM0Y7loyOLZ"
      },
      "source": [
        "employees_df = pd.read_csv('employees.csv') "
      ],
      "execution_count": null,
      "outputs": []
    },
    {
      "cell_type": "markdown",
      "metadata": {
        "id": "0cvYZbWX2Gpg"
      },
      "source": [
        "# Dropping the first column (First Name)"
      ]
    },
    {
      "cell_type": "code",
      "metadata": {
        "id": "GejNMLgCynVH"
      },
      "source": [
        "employees_df.drop(axis=1,columns=\"First Name\", inplace=True)"
      ],
      "execution_count": null,
      "outputs": []
    },
    {
      "cell_type": "code",
      "metadata": {
        "colab": {
          "base_uri": "https://localhost:8080/",
          "height": 195
        },
        "id": "9k9zJmDEzIkM",
        "outputId": "d61f3b79-829b-4567-aaa9-265ba32ba4f1"
      },
      "source": [
        "employees_df.head()"
      ],
      "execution_count": null,
      "outputs": [
        {
          "output_type": "execute_result",
          "data": {
            "text/html": [
              "<div>\n",
              "<style scoped>\n",
              "    .dataframe tbody tr th:only-of-type {\n",
              "        vertical-align: middle;\n",
              "    }\n",
              "\n",
              "    .dataframe tbody tr th {\n",
              "        vertical-align: top;\n",
              "    }\n",
              "\n",
              "    .dataframe thead th {\n",
              "        text-align: right;\n",
              "    }\n",
              "</style>\n",
              "<table border=\"1\" class=\"dataframe\">\n",
              "  <thead>\n",
              "    <tr style=\"text-align: right;\">\n",
              "      <th></th>\n",
              "      <th>Gender</th>\n",
              "      <th>Salary</th>\n",
              "      <th>Bonus %</th>\n",
              "      <th>Team</th>\n",
              "    </tr>\n",
              "  </thead>\n",
              "  <tbody>\n",
              "    <tr>\n",
              "      <th>0</th>\n",
              "      <td>Male</td>\n",
              "      <td>97308.0</td>\n",
              "      <td>6.945</td>\n",
              "      <td>Marketing</td>\n",
              "    </tr>\n",
              "    <tr>\n",
              "      <th>1</th>\n",
              "      <td>Male</td>\n",
              "      <td>61933.0</td>\n",
              "      <td>4.170</td>\n",
              "      <td>Others</td>\n",
              "    </tr>\n",
              "    <tr>\n",
              "      <th>2</th>\n",
              "      <td>Female</td>\n",
              "      <td>130590.0</td>\n",
              "      <td>11.858</td>\n",
              "      <td>Finance</td>\n",
              "    </tr>\n",
              "    <tr>\n",
              "      <th>3</th>\n",
              "      <td>Male</td>\n",
              "      <td>138705.0</td>\n",
              "      <td>9.340</td>\n",
              "      <td>Finance</td>\n",
              "    </tr>\n",
              "    <tr>\n",
              "      <th>4</th>\n",
              "      <td>Male</td>\n",
              "      <td>101004.0</td>\n",
              "      <td>1.389</td>\n",
              "      <td>Client Services</td>\n",
              "    </tr>\n",
              "  </tbody>\n",
              "</table>\n",
              "</div>"
            ],
            "text/plain": [
              "   Gender    Salary  Bonus %             Team\n",
              "0    Male   97308.0    6.945        Marketing\n",
              "1    Male   61933.0    4.170           Others\n",
              "2  Female  130590.0   11.858          Finance\n",
              "3    Male  138705.0    9.340          Finance\n",
              "4    Male  101004.0    1.389  Client Services"
            ]
          },
          "metadata": {
            "tags": []
          },
          "execution_count": 4
        }
      ]
    },
    {
      "cell_type": "markdown",
      "metadata": {
        "id": "SpbAKjeG2S7f"
      },
      "source": [
        "# Filling in missing values in (Salary, Bonus %) using the mean value of each column\r\n"
      ]
    },
    {
      "cell_type": "markdown",
      "metadata": {
        "id": "-Mj1GTzhOjbl"
      },
      "source": [
        "#### 1/ Salary"
      ]
    },
    {
      "cell_type": "code",
      "metadata": {
        "id": "HgU4wrg0zZBr"
      },
      "source": [
        "employees_df[\"Salary\"].fillna(value = employees_df[\"Salary\"].mean(), inplace = True)"
      ],
      "execution_count": null,
      "outputs": []
    },
    {
      "cell_type": "markdown",
      "metadata": {
        "id": "Vc-t0IsZOt22"
      },
      "source": [
        "#### 2/ Bonus %"
      ]
    },
    {
      "cell_type": "code",
      "metadata": {
        "id": "oxMdA2Sgz1PL"
      },
      "source": [
        "employees_df[\"Bonus %\"].fillna(value = employees_df[\"Bonus %\"].mean(), inplace = True)"
      ],
      "execution_count": null,
      "outputs": []
    },
    {
      "cell_type": "markdown",
      "metadata": {
        "id": "ShIAPWpz2c2m"
      },
      "source": [
        "# Converting text values to numerical values in (Gender, Team)"
      ]
    },
    {
      "cell_type": "markdown",
      "metadata": {
        "id": "eYdbHHUSO-BQ"
      },
      "source": [
        "#### 1/ Gender"
      ]
    },
    {
      "cell_type": "code",
      "metadata": {
        "id": "wcoL_XIE2B6m"
      },
      "source": [
        "gender_in_Binary = {'Male':0, 'Female':1}"
      ],
      "execution_count": null,
      "outputs": []
    },
    {
      "cell_type": "code",
      "metadata": {
        "id": "LGuVOQij4yS0"
      },
      "source": [
        "employees_df.Gender = [gender_in_Binary[person] for person in employees_df.Gender]"
      ],
      "execution_count": null,
      "outputs": []
    },
    {
      "cell_type": "code",
      "metadata": {
        "colab": {
          "base_uri": "https://localhost:8080/",
          "height": 195
        },
        "id": "al3qJGBh5JXE",
        "outputId": "483282f1-0655-4396-93ac-f7aa03c7320c"
      },
      "source": [
        "employees_df.head()"
      ],
      "execution_count": null,
      "outputs": [
        {
          "output_type": "execute_result",
          "data": {
            "text/html": [
              "<div>\n",
              "<style scoped>\n",
              "    .dataframe tbody tr th:only-of-type {\n",
              "        vertical-align: middle;\n",
              "    }\n",
              "\n",
              "    .dataframe tbody tr th {\n",
              "        vertical-align: top;\n",
              "    }\n",
              "\n",
              "    .dataframe thead th {\n",
              "        text-align: right;\n",
              "    }\n",
              "</style>\n",
              "<table border=\"1\" class=\"dataframe\">\n",
              "  <thead>\n",
              "    <tr style=\"text-align: right;\">\n",
              "      <th></th>\n",
              "      <th>Gender</th>\n",
              "      <th>Salary</th>\n",
              "      <th>Bonus %</th>\n",
              "      <th>Team</th>\n",
              "    </tr>\n",
              "  </thead>\n",
              "  <tbody>\n",
              "    <tr>\n",
              "      <th>0</th>\n",
              "      <td>0</td>\n",
              "      <td>97308.0</td>\n",
              "      <td>6.945</td>\n",
              "      <td>Marketing</td>\n",
              "    </tr>\n",
              "    <tr>\n",
              "      <th>1</th>\n",
              "      <td>0</td>\n",
              "      <td>61933.0</td>\n",
              "      <td>4.170</td>\n",
              "      <td>Others</td>\n",
              "    </tr>\n",
              "    <tr>\n",
              "      <th>2</th>\n",
              "      <td>1</td>\n",
              "      <td>130590.0</td>\n",
              "      <td>11.858</td>\n",
              "      <td>Finance</td>\n",
              "    </tr>\n",
              "    <tr>\n",
              "      <th>3</th>\n",
              "      <td>0</td>\n",
              "      <td>138705.0</td>\n",
              "      <td>9.340</td>\n",
              "      <td>Finance</td>\n",
              "    </tr>\n",
              "    <tr>\n",
              "      <th>4</th>\n",
              "      <td>0</td>\n",
              "      <td>101004.0</td>\n",
              "      <td>1.389</td>\n",
              "      <td>Client Services</td>\n",
              "    </tr>\n",
              "  </tbody>\n",
              "</table>\n",
              "</div>"
            ],
            "text/plain": [
              "   Gender    Salary  Bonus %             Team\n",
              "0       0   97308.0    6.945        Marketing\n",
              "1       0   61933.0    4.170           Others\n",
              "2       1  130590.0   11.858          Finance\n",
              "3       0  138705.0    9.340          Finance\n",
              "4       0  101004.0    1.389  Client Services"
            ]
          },
          "metadata": {
            "tags": []
          },
          "execution_count": 9
        }
      ]
    },
    {
      "cell_type": "markdown",
      "metadata": {
        "id": "FzuWeRfAPbyr"
      },
      "source": [
        "#### 2/ Team"
      ]
    },
    {
      "cell_type": "markdown",
      "metadata": {
        "id": "LSVaHPHw23Cq"
      },
      "source": [
        "###### Creating a dictionary for the mapping of the Team column"
      ]
    },
    {
      "cell_type": "code",
      "metadata": {
        "colab": {
          "base_uri": "https://localhost:8080/"
        },
        "id": "pRJ96E945LN3",
        "outputId": "3dfa973d-f28b-4fc2-e0c9-f680b51ee617"
      },
      "source": [
        "set_of_teams = set(employees_df['Team'])\r\n",
        "set_of_teams"
      ],
      "execution_count": null,
      "outputs": [
        {
          "output_type": "execute_result",
          "data": {
            "text/plain": [
              "{'Business Development',\n",
              " 'Client Services',\n",
              " 'Distribution',\n",
              " 'Engineering',\n",
              " 'Finance',\n",
              " 'Human Resources',\n",
              " 'Legal',\n",
              " 'Marketing',\n",
              " 'Others',\n",
              " 'Product',\n",
              " 'Sales'}"
            ]
          },
          "metadata": {
            "tags": []
          },
          "execution_count": 10
        }
      ]
    },
    {
      "cell_type": "code",
      "metadata": {
        "colab": {
          "base_uri": "https://localhost:8080/"
        },
        "id": "_YYm8egH4OU-",
        "outputId": "a844de5d-3c49-4d23-d8b0-73ae7e308045"
      },
      "source": [
        "set_of_team_indexes = set(range(0, len(set_of_teams)))\r\n",
        "set_of_team_indexes"
      ],
      "execution_count": null,
      "outputs": [
        {
          "output_type": "execute_result",
          "data": {
            "text/plain": [
              "{0, 1, 2, 3, 4, 5, 6, 7, 8, 9, 10}"
            ]
          },
          "metadata": {
            "tags": []
          },
          "execution_count": 11
        }
      ]
    },
    {
      "cell_type": "code",
      "metadata": {
        "colab": {
          "base_uri": "https://localhost:8080/"
        },
        "id": "iPOM9fhWyxEp",
        "outputId": "bcd359a4-bdf1-4200-a630-1b4dc3820dc9"
      },
      "source": [
        "team_dictionary = dict(zip(set_of_teams ,set_of_team_indexes))\r\n",
        "team_dictionary"
      ],
      "execution_count": null,
      "outputs": [
        {
          "output_type": "execute_result",
          "data": {
            "text/plain": [
              "{'Business Development': 3,\n",
              " 'Client Services': 8,\n",
              " 'Distribution': 10,\n",
              " 'Engineering': 0,\n",
              " 'Finance': 7,\n",
              " 'Human Resources': 6,\n",
              " 'Legal': 5,\n",
              " 'Marketing': 9,\n",
              " 'Others': 4,\n",
              " 'Product': 2,\n",
              " 'Sales': 1}"
            ]
          },
          "metadata": {
            "tags": []
          },
          "execution_count": 12
        }
      ]
    },
    {
      "cell_type": "code",
      "metadata": {
        "id": "eIF7pCFc76sd"
      },
      "source": [
        "employees_df.Team = [team_dictionary[team] for team in employees_df.Team]"
      ],
      "execution_count": null,
      "outputs": []
    },
    {
      "cell_type": "code",
      "metadata": {
        "colab": {
          "base_uri": "https://localhost:8080/",
          "height": 402
        },
        "id": "aKp5HFjd1F0K",
        "outputId": "c2c90686-458a-49ff-e880-ad21726162de"
      },
      "source": [
        "employees_df"
      ],
      "execution_count": null,
      "outputs": [
        {
          "output_type": "execute_result",
          "data": {
            "text/html": [
              "<div>\n",
              "<style scoped>\n",
              "    .dataframe tbody tr th:only-of-type {\n",
              "        vertical-align: middle;\n",
              "    }\n",
              "\n",
              "    .dataframe tbody tr th {\n",
              "        vertical-align: top;\n",
              "    }\n",
              "\n",
              "    .dataframe thead th {\n",
              "        text-align: right;\n",
              "    }\n",
              "</style>\n",
              "<table border=\"1\" class=\"dataframe\">\n",
              "  <thead>\n",
              "    <tr style=\"text-align: right;\">\n",
              "      <th></th>\n",
              "      <th>Gender</th>\n",
              "      <th>Salary</th>\n",
              "      <th>Bonus %</th>\n",
              "      <th>Team</th>\n",
              "    </tr>\n",
              "  </thead>\n",
              "  <tbody>\n",
              "    <tr>\n",
              "      <th>0</th>\n",
              "      <td>0</td>\n",
              "      <td>97308.0</td>\n",
              "      <td>6.945</td>\n",
              "      <td>9</td>\n",
              "    </tr>\n",
              "    <tr>\n",
              "      <th>1</th>\n",
              "      <td>0</td>\n",
              "      <td>61933.0</td>\n",
              "      <td>4.170</td>\n",
              "      <td>4</td>\n",
              "    </tr>\n",
              "    <tr>\n",
              "      <th>2</th>\n",
              "      <td>1</td>\n",
              "      <td>130590.0</td>\n",
              "      <td>11.858</td>\n",
              "      <td>7</td>\n",
              "    </tr>\n",
              "    <tr>\n",
              "      <th>3</th>\n",
              "      <td>0</td>\n",
              "      <td>138705.0</td>\n",
              "      <td>9.340</td>\n",
              "      <td>7</td>\n",
              "    </tr>\n",
              "    <tr>\n",
              "      <th>4</th>\n",
              "      <td>0</td>\n",
              "      <td>101004.0</td>\n",
              "      <td>1.389</td>\n",
              "      <td>8</td>\n",
              "    </tr>\n",
              "    <tr>\n",
              "      <th>...</th>\n",
              "      <td>...</td>\n",
              "      <td>...</td>\n",
              "      <td>...</td>\n",
              "      <td>...</td>\n",
              "    </tr>\n",
              "    <tr>\n",
              "      <th>94</th>\n",
              "      <td>0</td>\n",
              "      <td>130620.0</td>\n",
              "      <td>7.030</td>\n",
              "      <td>5</td>\n",
              "    </tr>\n",
              "    <tr>\n",
              "      <th>95</th>\n",
              "      <td>1</td>\n",
              "      <td>43026.0</td>\n",
              "      <td>14.166</td>\n",
              "      <td>8</td>\n",
              "    </tr>\n",
              "    <tr>\n",
              "      <th>96</th>\n",
              "      <td>1</td>\n",
              "      <td>142321.0</td>\n",
              "      <td>1.737</td>\n",
              "      <td>7</td>\n",
              "    </tr>\n",
              "    <tr>\n",
              "      <th>97</th>\n",
              "      <td>1</td>\n",
              "      <td>140371.0</td>\n",
              "      <td>10.620</td>\n",
              "      <td>9</td>\n",
              "    </tr>\n",
              "    <tr>\n",
              "      <th>98</th>\n",
              "      <td>1</td>\n",
              "      <td>100705.0</td>\n",
              "      <td>16.961</td>\n",
              "      <td>9</td>\n",
              "    </tr>\n",
              "  </tbody>\n",
              "</table>\n",
              "<p>99 rows × 4 columns</p>\n",
              "</div>"
            ],
            "text/plain": [
              "    Gender    Salary  Bonus %  Team\n",
              "0        0   97308.0    6.945     9\n",
              "1        0   61933.0    4.170     4\n",
              "2        1  130590.0   11.858     7\n",
              "3        0  138705.0    9.340     7\n",
              "4        0  101004.0    1.389     8\n",
              "..     ...       ...      ...   ...\n",
              "94       0  130620.0    7.030     5\n",
              "95       1   43026.0   14.166     8\n",
              "96       1  142321.0    1.737     7\n",
              "97       1  140371.0   10.620     9\n",
              "98       1  100705.0   16.961     9\n",
              "\n",
              "[99 rows x 4 columns]"
            ]
          },
          "metadata": {
            "tags": []
          },
          "execution_count": 14
        }
      ]
    },
    {
      "cell_type": "markdown",
      "metadata": {
        "id": "oQevej9G3JyK"
      },
      "source": [
        "#Saving the modified DataFrame to a CSV file"
      ]
    },
    {
      "cell_type": "code",
      "metadata": {
        "id": "8O8DNT5728tJ"
      },
      "source": [
        "employees_df.to_csv(\"exported_employees.csv\", index=False)"
      ],
      "execution_count": null,
      "outputs": []
    }
  ]
}