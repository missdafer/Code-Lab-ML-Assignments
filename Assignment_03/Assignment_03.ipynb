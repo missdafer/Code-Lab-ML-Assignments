{
  "nbformat": 4,
  "nbformat_minor": 0,
  "metadata": {
    "colab": {
      "name": "Assignment_03.ipynb",
      "provenance": [],
      "collapsed_sections": []
    },
    "kernelspec": {
      "name": "python3",
      "display_name": "Python 3"
    }
  },
  "cells": [
    {
      "cell_type": "code",
      "metadata": {
        "id": "ejOCA7hrqZDL"
      },
      "source": [
        "from sklearn import datasets, metrics, model_selection, svm\r\n",
        "import pandas as pd"
      ],
      "execution_count": 1,
      "outputs": []
    },
    {
      "cell_type": "markdown",
      "metadata": {
        "id": "x5irvaN0tUhO"
      },
      "source": [
        "#### importing a dataset from Scikit Learn then splitting the dataset into inputs/features ( x ) and output/target ( y )"
      ]
    },
    {
      "cell_type": "code",
      "metadata": {
        "id": "lpOVJcxnryp4"
      },
      "source": [
        "features, labels = datasets.load_wine(return_X_y=True)"
      ],
      "execution_count": 2,
      "outputs": []
    },
    {
      "cell_type": "markdown",
      "metadata": {
        "id": "ZL5V1FY4mYM6"
      },
      "source": [
        "#### Using 'StratifiedShuffleSplit' to split the dataset into training and testing sets"
      ]
    },
    {
      "cell_type": "code",
      "metadata": {
        "id": "L0TaF_jemD1R"
      },
      "source": [
        "k_fold = model_selection.StratifiedShuffleSplit(random_state=42, n_splits=10)"
      ],
      "execution_count": 3,
      "outputs": []
    },
    {
      "cell_type": "code",
      "metadata": {
        "id": "yi-o_GAanSUg"
      },
      "source": [
        "k_fold_scores = [] "
      ],
      "execution_count": 4,
      "outputs": []
    },
    {
      "cell_type": "code",
      "metadata": {
        "id": "iKovgEnvxYI1"
      },
      "source": [
        "for train_indices,test_indices in k_fold.split(features,labels):\r\n",
        "  \r\n",
        "  features_train = features[train_indices]\r\n",
        "  labels_train = labels[train_indices]\r\n",
        "  features_test = features[test_indices]\r\n",
        "  labels_test = labels[test_indices]\r\n",
        "\r\n",
        "\r\n",
        "  model = svm.SVC(random_state=42, C=1 , gamma='scale', kernel='linear', decision_function_shape='ovo')\r\n",
        "  model.fit(features_train,labels_train)\r\n",
        "  labels_prediction = model.predict(features_test)\r\n",
        "\r\n",
        "  \r\n",
        "  accuracy_per_fold = metrics.accuracy_score(labels_test,labels_prediction)\r\n",
        "  k_fold_scores.append({'accuracy': accuracy_per_fold})"
      ],
      "execution_count": 5,
      "outputs": []
    },
    {
      "cell_type": "markdown",
      "metadata": {
        "id": "dYmcC5TV56mn"
      },
      "source": [
        "#### Displaying the score for each fold"
      ]
    },
    {
      "cell_type": "code",
      "metadata": {
        "colab": {
          "base_uri": "https://localhost:8080/",
          "height": 343
        },
        "id": "6_ETusPPyk8E",
        "outputId": "cc6890e6-4a14-4e57-e796-4a13a6295d13"
      },
      "source": [
        "k_fold_scores_df = pd.DataFrame(k_fold_scores)\r\n",
        "k_fold_scores_df"
      ],
      "execution_count": 6,
      "outputs": [
        {
          "output_type": "execute_result",
          "data": {
            "text/html": [
              "<div>\n",
              "<style scoped>\n",
              "    .dataframe tbody tr th:only-of-type {\n",
              "        vertical-align: middle;\n",
              "    }\n",
              "\n",
              "    .dataframe tbody tr th {\n",
              "        vertical-align: top;\n",
              "    }\n",
              "\n",
              "    .dataframe thead th {\n",
              "        text-align: right;\n",
              "    }\n",
              "</style>\n",
              "<table border=\"1\" class=\"dataframe\">\n",
              "  <thead>\n",
              "    <tr style=\"text-align: right;\">\n",
              "      <th></th>\n",
              "      <th>accuracy</th>\n",
              "    </tr>\n",
              "  </thead>\n",
              "  <tbody>\n",
              "    <tr>\n",
              "      <th>0</th>\n",
              "      <td>0.944444</td>\n",
              "    </tr>\n",
              "    <tr>\n",
              "      <th>1</th>\n",
              "      <td>0.888889</td>\n",
              "    </tr>\n",
              "    <tr>\n",
              "      <th>2</th>\n",
              "      <td>0.944444</td>\n",
              "    </tr>\n",
              "    <tr>\n",
              "      <th>3</th>\n",
              "      <td>0.944444</td>\n",
              "    </tr>\n",
              "    <tr>\n",
              "      <th>4</th>\n",
              "      <td>0.944444</td>\n",
              "    </tr>\n",
              "    <tr>\n",
              "      <th>5</th>\n",
              "      <td>1.000000</td>\n",
              "    </tr>\n",
              "    <tr>\n",
              "      <th>6</th>\n",
              "      <td>0.944444</td>\n",
              "    </tr>\n",
              "    <tr>\n",
              "      <th>7</th>\n",
              "      <td>1.000000</td>\n",
              "    </tr>\n",
              "    <tr>\n",
              "      <th>8</th>\n",
              "      <td>0.944444</td>\n",
              "    </tr>\n",
              "    <tr>\n",
              "      <th>9</th>\n",
              "      <td>0.944444</td>\n",
              "    </tr>\n",
              "  </tbody>\n",
              "</table>\n",
              "</div>"
            ],
            "text/plain": [
              "   accuracy\n",
              "0  0.944444\n",
              "1  0.888889\n",
              "2  0.944444\n",
              "3  0.944444\n",
              "4  0.944444\n",
              "5  1.000000\n",
              "6  0.944444\n",
              "7  1.000000\n",
              "8  0.944444\n",
              "9  0.944444"
            ]
          },
          "metadata": {
            "tags": []
          },
          "execution_count": 6
        }
      ]
    },
    {
      "cell_type": "markdown",
      "metadata": {
        "id": "7ohwzUeh56Rr"
      },
      "source": [
        "#### Displaying the mean of each fold score"
      ]
    },
    {
      "cell_type": "code",
      "metadata": {
        "colab": {
          "base_uri": "https://localhost:8080/"
        },
        "id": "wg-afM916f_S",
        "outputId": "c3303dfb-525e-454c-ee57-7281c897e5cb"
      },
      "source": [
        "k_fold_scores_df.mean()"
      ],
      "execution_count": 7,
      "outputs": [
        {
          "output_type": "execute_result",
          "data": {
            "text/plain": [
              "accuracy    0.95\n",
              "dtype: float64"
            ]
          },
          "metadata": {
            "tags": []
          },
          "execution_count": 7
        }
      ]
    }
  ]
}