{
  "nbformat": 4,
  "nbformat_minor": 0,
  "metadata": {
    "colab": {
      "name": "Assignment_04.ipynb",
      "provenance": [],
      "collapsed_sections": []
    },
    "kernelspec": {
      "name": "python3",
      "display_name": "Python 3"
    }
  },
  "cells": [
    {
      "cell_type": "code",
      "metadata": {
        "id": "Hv6dqmwb09L9"
      },
      "source": [
        "import tensorflow as tf\r\n",
        "from sklearn import model_selection,datasets\r\n",
        "import matplotlib.pyplot as plt\r\n",
        "import pandas as pd"
      ],
      "execution_count": 1,
      "outputs": []
    },
    {
      "cell_type": "code",
      "metadata": {
        "id": "JK-28y3f5MG4"
      },
      "source": [
        "# setting the global seed to ensure having reproducible results\r\n",
        "tf.random.set_seed(42)"
      ],
      "execution_count": 2,
      "outputs": []
    },
    {
      "cell_type": "markdown",
      "metadata": {
        "id": "UkEL5ezcv1VF"
      },
      "source": [
        "## First classification dataset with fully connected (Dense) neural network to predict the output based on the input features \"iris dataset\"\r\n"
      ]
    },
    {
      "cell_type": "markdown",
      "metadata": {
        "id": "7f7qglks2Gdh"
      },
      "source": [
        "Assigning the `features` and `labels` from the Sickit Learn dataset"
      ]
    },
    {
      "cell_type": "code",
      "metadata": {
        "id": "C6ZE2OI5oMeg"
      },
      "source": [
        "iris_features,iris_labels = datasets.load_iris(return_X_y=True)"
      ],
      "execution_count": 3,
      "outputs": []
    },
    {
      "cell_type": "markdown",
      "metadata": {
        "id": "HrW_ggWZ9G5H"
      },
      "source": [
        "Splitting the data using `model_selection.train_test_split` from Scikit Learn with test size of '0.1' and using `stratify` to ensure a balanced number of examples for each class label, also setting the `random_state`\r\n"
      ]
    },
    {
      "cell_type": "code",
      "metadata": {
        "id": "wWUNGVA108Y8"
      },
      "source": [
        "iris_features_train, iris_features_test, iris_labels_train, iris_labels_test = model_selection.train_test_split(iris_features, iris_labels, random_state=42, stratify=iris_labels, test_size=0.1)"
      ],
      "execution_count": 4,
      "outputs": []
    },
    {
      "cell_type": "markdown",
      "metadata": {
        "id": "U_XL89wpAXAU"
      },
      "source": [
        "One Hot encodeing the `targets/outputs ` to get a better prediction"
      ]
    },
    {
      "cell_type": "code",
      "metadata": {
        "id": "ByDQNH8p8lHS"
      },
      "source": [
        "iris_labels_train = tf.one_hot(iris_labels_train,depth=len(set(iris_labels)))\r\n",
        "iris_labels_test = tf.one_hot(iris_labels_test, depth=len(set(iris_labels)))"
      ],
      "execution_count": 5,
      "outputs": []
    },
    {
      "cell_type": "markdown",
      "metadata": {
        "id": "NJ_e-z3DBTo5"
      },
      "source": [
        "Using the shape of the `features ` to determine the number of units for the input layer '4' and the shape of the `labels ` to determine the number of units for the output layer  '3' of the model"
      ]
    },
    {
      "cell_type": "code",
      "metadata": {
        "colab": {
          "base_uri": "https://localhost:8080/"
        },
        "id": "mgjmSyRj9yZd",
        "outputId": "646c9dca-cef8-43cf-c6ce-d1891bc23c47"
      },
      "source": [
        "iris_features_train.shape, iris_labels_train.shape"
      ],
      "execution_count": 6,
      "outputs": [
        {
          "output_type": "execute_result",
          "data": {
            "text/plain": [
              "((135, 4), TensorShape([135, 3]))"
            ]
          },
          "metadata": {
            "tags": []
          },
          "execution_count": 6
        }
      ]
    },
    {
      "cell_type": "markdown",
      "metadata": {
        "id": "UDKaZdxwC4su"
      },
      "source": [
        "### Building and trainning the model"
      ]
    },
    {
      "cell_type": "code",
      "metadata": {
        "id": "5rG-rNIQhpkL"
      },
      "source": [
        "# to restart tensorflow state\r\n",
        "del tf\r\n",
        "import tensorflow as tf\r\n",
        "tf.random.set_seed(42)"
      ],
      "execution_count": 7,
      "outputs": []
    },
    {
      "cell_type": "code",
      "metadata": {
        "id": "3mHOIuv79aQB"
      },
      "source": [
        "iris_model = tf.keras.Sequential([\r\n",
        "                             tf.keras.layers.Input(shape=[4]),\r\n",
        "                             tf.keras.layers.Dense(128,activation=tf.nn.leaky_relu),\r\n",
        "                             tf.keras.layers.Dropout(0.1), # using regularization technique to avoid overfitting\r\n",
        "                             tf.keras.layers.Dense(256,activation=tf.nn.leaky_relu),\r\n",
        "                             tf.keras.layers.Dropout(0.1),\r\n",
        "                             tf.keras.layers.Dense(128,activation=tf.nn.leaky_relu),\r\n",
        "                             tf.keras.layers.Dropout(0.1),\r\n",
        "                             tf.keras.layers.Dense(16,activation=tf.nn.leaky_relu),\r\n",
        "                             tf.keras.layers.Dense(3,activation=tf.nn.softmax)\r\n",
        "])"
      ],
      "execution_count": 8,
      "outputs": []
    },
    {
      "cell_type": "code",
      "metadata": {
        "colab": {
          "base_uri": "https://localhost:8080/"
        },
        "id": "UA95XIDUrwPS",
        "outputId": "6c862060-9e5e-4614-ab57-1cda93ec930b"
      },
      "source": [
        "iris_model.summary()"
      ],
      "execution_count": 9,
      "outputs": [
        {
          "output_type": "stream",
          "text": [
            "Model: \"sequential\"\n",
            "_________________________________________________________________\n",
            "Layer (type)                 Output Shape              Param #   \n",
            "=================================================================\n",
            "dense (Dense)                (None, 128)               640       \n",
            "_________________________________________________________________\n",
            "dropout (Dropout)            (None, 128)               0         \n",
            "_________________________________________________________________\n",
            "dense_1 (Dense)              (None, 256)               33024     \n",
            "_________________________________________________________________\n",
            "dropout_1 (Dropout)          (None, 256)               0         \n",
            "_________________________________________________________________\n",
            "dense_2 (Dense)              (None, 128)               32896     \n",
            "_________________________________________________________________\n",
            "dropout_2 (Dropout)          (None, 128)               0         \n",
            "_________________________________________________________________\n",
            "dense_3 (Dense)              (None, 16)                2064      \n",
            "_________________________________________________________________\n",
            "dense_4 (Dense)              (None, 3)                 51        \n",
            "=================================================================\n",
            "Total params: 68,675\n",
            "Trainable params: 68,675\n",
            "Non-trainable params: 0\n",
            "_________________________________________________________________\n"
          ],
          "name": "stdout"
        }
      ]
    },
    {
      "cell_type": "markdown",
      "metadata": {
        "id": "qwDg2yJwDpqV"
      },
      "source": [
        "Using the accuracy metric in the compile function to display 'accuracy' during training\r\n",
        "\r\n"
      ]
    },
    {
      "cell_type": "code",
      "metadata": {
        "id": "PeHnqK7g_SPV"
      },
      "source": [
        "iris_model.compile(optimizer=tf.optimizers.Adam(), loss=tf.losses.CategoricalCrossentropy(), metrics=['acc'])"
      ],
      "execution_count": 10,
      "outputs": []
    },
    {
      "cell_type": "code",
      "metadata": {
        "colab": {
          "base_uri": "https://localhost:8080/"
        },
        "id": "KckIb5Pd-tZg",
        "outputId": "1e3e1589-398f-48a0-82b6-6db52f809bc9"
      },
      "source": [
        "iris_fit = iris_model.fit(x= iris_features_train,y= iris_labels_train,epochs=30, validation_data=(iris_features_test, iris_labels_test))"
      ],
      "execution_count": 11,
      "outputs": [
        {
          "output_type": "stream",
          "text": [
            "Epoch 1/30\n",
            "5/5 [==============================] - 1s 124ms/step - loss: 1.1078 - acc: 0.4140 - val_loss: 0.8916 - val_acc: 0.6667\n",
            "Epoch 2/30\n",
            "5/5 [==============================] - 0s 15ms/step - loss: 0.9157 - acc: 0.5318 - val_loss: 0.7006 - val_acc: 0.8667\n",
            "Epoch 3/30\n",
            "5/5 [==============================] - 0s 14ms/step - loss: 0.7274 - acc: 0.7511 - val_loss: 0.5528 - val_acc: 0.7333\n",
            "Epoch 4/30\n",
            "5/5 [==============================] - 0s 13ms/step - loss: 0.5700 - acc: 0.7853 - val_loss: 0.4220 - val_acc: 0.9333\n",
            "Epoch 5/30\n",
            "5/5 [==============================] - 0s 15ms/step - loss: 0.4661 - acc: 0.8563 - val_loss: 0.3049 - val_acc: 0.9333\n",
            "Epoch 6/30\n",
            "5/5 [==============================] - 0s 14ms/step - loss: 0.3532 - acc: 0.8196 - val_loss: 0.2120 - val_acc: 1.0000\n",
            "Epoch 7/30\n",
            "5/5 [==============================] - 0s 15ms/step - loss: 0.3724 - acc: 0.8013 - val_loss: 0.1790 - val_acc: 0.9333\n",
            "Epoch 8/30\n",
            "5/5 [==============================] - 0s 16ms/step - loss: 0.3408 - acc: 0.8325 - val_loss: 0.1397 - val_acc: 1.0000\n",
            "Epoch 9/30\n",
            "5/5 [==============================] - 0s 14ms/step - loss: 0.2488 - acc: 0.9050 - val_loss: 0.1150 - val_acc: 1.0000\n",
            "Epoch 10/30\n",
            "5/5 [==============================] - 0s 14ms/step - loss: 0.2683 - acc: 0.8733 - val_loss: 0.0943 - val_acc: 1.0000\n",
            "Epoch 11/30\n",
            "5/5 [==============================] - 0s 16ms/step - loss: 0.2012 - acc: 0.9309 - val_loss: 0.2402 - val_acc: 0.9333\n",
            "Epoch 12/30\n",
            "5/5 [==============================] - 0s 14ms/step - loss: 0.3980 - acc: 0.8058 - val_loss: 0.1021 - val_acc: 1.0000\n",
            "Epoch 13/30\n",
            "5/5 [==============================] - 0s 14ms/step - loss: 0.2522 - acc: 0.8805 - val_loss: 0.1036 - val_acc: 0.9333\n",
            "Epoch 14/30\n",
            "5/5 [==============================] - 0s 14ms/step - loss: 0.2116 - acc: 0.9048 - val_loss: 0.0687 - val_acc: 1.0000\n",
            "Epoch 15/30\n",
            "5/5 [==============================] - 0s 15ms/step - loss: 0.2533 - acc: 0.8750 - val_loss: 0.0918 - val_acc: 0.9333\n",
            "Epoch 16/30\n",
            "5/5 [==============================] - 0s 50ms/step - loss: 0.3222 - acc: 0.8508 - val_loss: 0.2185 - val_acc: 0.9333\n",
            "Epoch 17/30\n",
            "5/5 [==============================] - 0s 13ms/step - loss: 0.1728 - acc: 0.9141 - val_loss: 0.1785 - val_acc: 0.9333\n",
            "Epoch 18/30\n",
            "5/5 [==============================] - 0s 13ms/step - loss: 0.2433 - acc: 0.8873 - val_loss: 0.1141 - val_acc: 0.9333\n",
            "Epoch 19/30\n",
            "5/5 [==============================] - 0s 13ms/step - loss: 0.2094 - acc: 0.9177 - val_loss: 0.1434 - val_acc: 0.9333\n",
            "Epoch 20/30\n",
            "5/5 [==============================] - 0s 14ms/step - loss: 0.2396 - acc: 0.8779 - val_loss: 0.0774 - val_acc: 1.0000\n",
            "Epoch 21/30\n",
            "5/5 [==============================] - 0s 14ms/step - loss: 0.1604 - acc: 0.9520 - val_loss: 0.0646 - val_acc: 1.0000\n",
            "Epoch 22/30\n",
            "5/5 [==============================] - 0s 15ms/step - loss: 0.1469 - acc: 0.9594 - val_loss: 0.0559 - val_acc: 1.0000\n",
            "Epoch 23/30\n",
            "5/5 [==============================] - 0s 16ms/step - loss: 0.1611 - acc: 0.9147 - val_loss: 0.0645 - val_acc: 1.0000\n",
            "Epoch 24/30\n",
            "5/5 [==============================] - 0s 16ms/step - loss: 0.1740 - acc: 0.9092 - val_loss: 0.0555 - val_acc: 1.0000\n",
            "Epoch 25/30\n",
            "5/5 [==============================] - 0s 14ms/step - loss: 0.1589 - acc: 0.9487 - val_loss: 0.0683 - val_acc: 1.0000\n",
            "Epoch 26/30\n",
            "5/5 [==============================] - 0s 13ms/step - loss: 0.1587 - acc: 0.9187 - val_loss: 0.0635 - val_acc: 0.9333\n",
            "Epoch 27/30\n",
            "5/5 [==============================] - 0s 16ms/step - loss: 0.1550 - acc: 0.9093 - val_loss: 0.0381 - val_acc: 1.0000\n",
            "Epoch 28/30\n",
            "5/5 [==============================] - 0s 14ms/step - loss: 0.1189 - acc: 0.9681 - val_loss: 0.0360 - val_acc: 1.0000\n",
            "Epoch 29/30\n",
            "5/5 [==============================] - 0s 15ms/step - loss: 0.1365 - acc: 0.9493 - val_loss: 0.0447 - val_acc: 1.0000\n",
            "Epoch 30/30\n",
            "5/5 [==============================] - 0s 13ms/step - loss: 0.0971 - acc: 0.9719 - val_loss: 0.0349 - val_acc: 1.0000\n"
          ],
          "name": "stdout"
        }
      ]
    },
    {
      "cell_type": "markdown",
      "metadata": {
        "id": "WLxGAzAnHMv_"
      },
      "source": [
        "Visualizing the 'loss' and 'val_loss' to display the model preformance during the fitting process"
      ]
    },
    {
      "cell_type": "code",
      "metadata": {
        "id": "kAMBFK8FbRi1"
      },
      "source": [
        "iris_fit_plot = pd.DataFrame(iris_fit.history)"
      ],
      "execution_count": 12,
      "outputs": []
    },
    {
      "cell_type": "code",
      "metadata": {
        "colab": {
          "base_uri": "https://localhost:8080/",
          "height": 282
        },
        "id": "aiT0R2doc0LH",
        "outputId": "e071876e-f609-4ef2-9a07-45b03873adbd"
      },
      "source": [
        "iris_fit_plot[['loss', 'val_loss']].plot.line()"
      ],
      "execution_count": 13,
      "outputs": [
        {
          "output_type": "execute_result",
          "data": {
            "text/plain": [
              "<matplotlib.axes._subplots.AxesSubplot at 0x7fb490f13b00>"
            ]
          },
          "metadata": {
            "tags": []
          },
          "execution_count": 13
        },
        {
          "output_type": "display_data",
          "data": {
            "image/png": "[encoded data removed]",
            "text/plain": [
              "<Figure size 432x288 with 1 Axes>"
            ]
          },
          "metadata": {
            "tags": [],
            "needs_background": "light"
          }
        }
      ]
    },
    {
      "cell_type": "markdown",
      "metadata": {
        "id": "tdrLNyd7v26F"
      },
      "source": [
        "## Second classification dataset with fully connected (Dense) neural network to predict the output based on the input features \"wine dataset\""
      ]
    },
    {
      "cell_type": "markdown",
      "metadata": {
        "id": "YPsnqUCiIvDY"
      },
      "source": [
        "Assigning the `features` and `labels` from the Sickit Learn dataset"
      ]
    },
    {
      "cell_type": "code",
      "metadata": {
        "id": "6aYyqzZ7v_ON"
      },
      "source": [
        "wine_features,wine_labels = datasets.load_wine(return_X_y=True)"
      ],
      "execution_count": 14,
      "outputs": []
    },
    {
      "cell_type": "markdown",
      "metadata": {
        "id": "wLjms-hUI4KN"
      },
      "source": [
        "Splitting the data using `model_selection.train_test_split` from Scikit Learn with test size of '0.1' and using `stratify` to ensure a balanced number of examples for each class label, also setting the `random_state` \r\n"
      ]
    },
    {
      "cell_type": "code",
      "metadata": {
        "id": "Pa-aONwz2AYd"
      },
      "source": [
        "wine_features_train, wine_features_test, wine_labels_train, wine_labels_test = model_selection.train_test_split(wine_features, wine_labels, random_state=42, test_size=0.1,stratify=wine_labels )"
      ],
      "execution_count": 15,
      "outputs": []
    },
    {
      "cell_type": "markdown",
      "metadata": {
        "id": "kpGQRmQmJGfz"
      },
      "source": [
        "One Hot encodeing the `targets/outputs ` to get a better prediction"
      ]
    },
    {
      "cell_type": "code",
      "metadata": {
        "id": "RgMpO2knF6VJ"
      },
      "source": [
        "wine_labels_train = tf.one_hot(wine_labels_train, len(set(wine_labels_train)))\r\n",
        "wine_labels_test = tf.one_hot(wine_labels_test, len(set(wine_labels_test)))"
      ],
      "execution_count": 16,
      "outputs": []
    },
    {
      "cell_type": "markdown",
      "metadata": {
        "id": "7GuXx1mwJYv9"
      },
      "source": [
        "Using the shape of the `features ` to determine the number of units for the input layer '13' and the shape of th `labels ` to determine the number of units for the output layer  '3' of the model"
      ]
    },
    {
      "cell_type": "code",
      "metadata": {
        "colab": {
          "base_uri": "https://localhost:8080/"
        },
        "id": "EMQH7RyWHuGn",
        "outputId": "ee07b027-5205-45e0-b687-a9363abe4110"
      },
      "source": [
        "wine_features_train.shape, wine_labels_train.shape"
      ],
      "execution_count": 17,
      "outputs": [
        {
          "output_type": "execute_result",
          "data": {
            "text/plain": [
              "((160, 13), TensorShape([160, 3]))"
            ]
          },
          "metadata": {
            "tags": []
          },
          "execution_count": 17
        }
      ]
    },
    {
      "cell_type": "markdown",
      "metadata": {
        "id": "rm00Gwk8JjDL"
      },
      "source": [
        "### Building and trainning the model"
      ]
    },
    {
      "cell_type": "code",
      "metadata": {
        "id": "KxwPrToGJm3v"
      },
      "source": [
        "# to restart tensorflow state\r\n",
        "del tf\r\n",
        "import tensorflow as tf\r\n",
        "tf.random.set_seed(42)"
      ],
      "execution_count": 18,
      "outputs": []
    },
    {
      "cell_type": "code",
      "metadata": {
        "id": "vgjHzABBQopU"
      },
      "source": [
        "wine_model = tf.keras.Sequential([\r\n",
        "                                  tf.keras.layers.Input(shape=[13]),\r\n",
        "                                  tf.keras.layers.Dense(256,activation=tf.nn.leaky_relu),\r\n",
        "                                  tf.keras.layers.Dense(32,activation=tf.nn.leaky_relu),\r\n",
        "                                  tf.keras.layers.Dropout(0.1), # using regularization technique to avoid overfitting\r\n",
        "                                  tf.keras.layers.Dense(64,activation=tf.nn.leaky_relu),\r\n",
        "                                  tf.keras.layers.Dropout(0.1), \r\n",
        "                                  tf.keras.layers.Dense(128,activation=tf.nn.leaky_relu),\r\n",
        "                                  tf.keras.layers.Dense(256,activation=tf.nn.leaky_relu),\r\n",
        "                                  tf.keras.layers.Dropout(0.1),\r\n",
        "                                  tf.keras.layers.Dense(64,activation=tf.nn.leaky_relu),\r\n",
        "                                  tf.keras.layers.Dense(3,activation=tf.nn.softmax)\r\n",
        "])"
      ],
      "execution_count": 20,
      "outputs": []
    },
    {
      "cell_type": "code",
      "metadata": {
        "colab": {
          "base_uri": "https://localhost:8080/"
        },
        "id": "sOLCu_35LOdc",
        "outputId": "118c75ae-a0b9-45bf-a148-f6549cc63160"
      },
      "source": [
        "wine_model.summary()"
      ],
      "execution_count": 21,
      "outputs": [
        {
          "output_type": "stream",
          "text": [
            "Model: \"sequential_1\"\n",
            "_________________________________________________________________\n",
            "Layer (type)                 Output Shape              Param #   \n",
            "=================================================================\n",
            "dense_5 (Dense)              (None, 256)               3584      \n",
            "_________________________________________________________________\n",
            "dense_6 (Dense)              (None, 32)                8224      \n",
            "_________________________________________________________________\n",
            "dropout_3 (Dropout)          (None, 32)                0         \n",
            "_________________________________________________________________\n",
            "dense_7 (Dense)              (None, 64)                2112      \n",
            "_________________________________________________________________\n",
            "dropout_4 (Dropout)          (None, 64)                0         \n",
            "_________________________________________________________________\n",
            "dense_8 (Dense)              (None, 128)               8320      \n",
            "_________________________________________________________________\n",
            "dense_9 (Dense)              (None, 256)               33024     \n",
            "_________________________________________________________________\n",
            "dropout_5 (Dropout)          (None, 256)               0         \n",
            "_________________________________________________________________\n",
            "dense_10 (Dense)             (None, 64)                16448     \n",
            "_________________________________________________________________\n",
            "dense_11 (Dense)             (None, 3)                 195       \n",
            "=================================================================\n",
            "Total params: 71,907\n",
            "Trainable params: 71,907\n",
            "Non-trainable params: 0\n",
            "_________________________________________________________________\n"
          ],
          "name": "stdout"
        }
      ]
    },
    {
      "cell_type": "markdown",
      "metadata": {
        "id": "arjV5fCYJpWK"
      },
      "source": [
        "Using the accuracy metric in the compile function to display 'accuracy' during training\r\n",
        "\r\n"
      ]
    },
    {
      "cell_type": "code",
      "metadata": {
        "id": "ughacIMUH9wO"
      },
      "source": [
        "wine_model.compile(optimizer=tf.optimizers.Adam(), loss=tf.losses.CategoricalCrossentropy(), metrics=['acc'])"
      ],
      "execution_count": 22,
      "outputs": []
    },
    {
      "cell_type": "code",
      "metadata": {
        "colab": {
          "base_uri": "https://localhost:8080/"
        },
        "id": "26zo2ZMsIgLl",
        "outputId": "9d6e8b45-8248-4ac9-e865-5c9ee1a4d030"
      },
      "source": [
        "wine_fit = wine_model.fit(x= wine_features_train, y= wine_labels_train, validation_data=(wine_features_test, wine_labels_test), epochs=50)"
      ],
      "execution_count": 23,
      "outputs": [
        {
          "output_type": "stream",
          "text": [
            "Epoch 1/50\n",
            "5/5 [==============================] - 1s 67ms/step - loss: 21.2580 - acc: 0.3194 - val_loss: 5.4937 - val_acc: 0.3333\n",
            "Epoch 2/50\n",
            "5/5 [==============================] - 0s 15ms/step - loss: 5.8855 - acc: 0.3826 - val_loss: 2.7944 - val_acc: 0.2778\n",
            "Epoch 3/50\n",
            "5/5 [==============================] - 0s 13ms/step - loss: 3.5394 - acc: 0.2634 - val_loss: 1.9928 - val_acc: 0.3333\n",
            "Epoch 4/50\n",
            "5/5 [==============================] - 0s 16ms/step - loss: 2.0908 - acc: 0.3951 - val_loss: 1.3746 - val_acc: 0.2778\n",
            "Epoch 5/50\n",
            "5/5 [==============================] - 0s 13ms/step - loss: 1.8054 - acc: 0.2949 - val_loss: 1.1785 - val_acc: 0.3333\n",
            "Epoch 6/50\n",
            "5/5 [==============================] - 0s 13ms/step - loss: 1.3897 - acc: 0.4049 - val_loss: 1.1367 - val_acc: 0.5556\n",
            "Epoch 7/50\n",
            "5/5 [==============================] - 0s 15ms/step - loss: 1.4762 - acc: 0.4326 - val_loss: 0.8009 - val_acc: 0.8889\n",
            "Epoch 8/50\n",
            "5/5 [==============================] - 0s 15ms/step - loss: 1.0694 - acc: 0.4927 - val_loss: 0.7702 - val_acc: 0.7222\n",
            "Epoch 9/50\n",
            "5/5 [==============================] - 0s 15ms/step - loss: 0.9370 - acc: 0.5661 - val_loss: 0.6644 - val_acc: 0.6111\n",
            "Epoch 10/50\n",
            "5/5 [==============================] - 0s 15ms/step - loss: 0.8946 - acc: 0.5573 - val_loss: 0.7082 - val_acc: 0.6111\n",
            "Epoch 11/50\n",
            "5/5 [==============================] - 0s 14ms/step - loss: 0.9652 - acc: 0.5332 - val_loss: 0.6099 - val_acc: 0.6667\n",
            "Epoch 12/50\n",
            "5/5 [==============================] - 0s 14ms/step - loss: 0.8811 - acc: 0.6169 - val_loss: 0.6511 - val_acc: 0.7222\n",
            "Epoch 13/50\n",
            "5/5 [==============================] - 0s 14ms/step - loss: 0.8749 - acc: 0.5809 - val_loss: 0.6005 - val_acc: 0.7222\n",
            "Epoch 14/50\n",
            "5/5 [==============================] - 0s 14ms/step - loss: 0.8264 - acc: 0.5283 - val_loss: 0.5457 - val_acc: 0.7778\n",
            "Epoch 15/50\n",
            "5/5 [==============================] - 0s 14ms/step - loss: 0.7917 - acc: 0.6391 - val_loss: 0.5476 - val_acc: 0.7222\n",
            "Epoch 16/50\n",
            "5/5 [==============================] - 0s 15ms/step - loss: 0.8419 - acc: 0.5891 - val_loss: 0.5346 - val_acc: 0.7222\n",
            "Epoch 17/50\n",
            "5/5 [==============================] - 0s 14ms/step - loss: 0.7102 - acc: 0.6644 - val_loss: 0.5417 - val_acc: 0.7222\n",
            "Epoch 18/50\n",
            "5/5 [==============================] - 0s 52ms/step - loss: 0.7250 - acc: 0.6217 - val_loss: 0.5308 - val_acc: 0.7222\n",
            "Epoch 19/50\n",
            "5/5 [==============================] - 0s 14ms/step - loss: 0.7327 - acc: 0.6026 - val_loss: 0.4824 - val_acc: 0.7778\n",
            "Epoch 20/50\n",
            "5/5 [==============================] - 0s 14ms/step - loss: 0.7211 - acc: 0.6391 - val_loss: 0.4903 - val_acc: 0.7222\n",
            "Epoch 21/50\n",
            "5/5 [==============================] - 0s 14ms/step - loss: 0.7485 - acc: 0.6333 - val_loss: 0.4539 - val_acc: 0.8333\n",
            "Epoch 22/50\n",
            "5/5 [==============================] - 0s 16ms/step - loss: 0.7445 - acc: 0.6048 - val_loss: 0.4957 - val_acc: 0.7222\n",
            "Epoch 23/50\n",
            "5/5 [==============================] - 0s 17ms/step - loss: 0.6819 - acc: 0.6909 - val_loss: 0.4696 - val_acc: 0.7778\n",
            "Epoch 24/50\n",
            "5/5 [==============================] - 0s 15ms/step - loss: 0.7000 - acc: 0.6846 - val_loss: 0.4513 - val_acc: 0.7778\n",
            "Epoch 25/50\n",
            "5/5 [==============================] - 0s 13ms/step - loss: 0.6866 - acc: 0.6360 - val_loss: 0.4311 - val_acc: 0.7222\n",
            "Epoch 26/50\n",
            "5/5 [==============================] - 0s 13ms/step - loss: 0.7267 - acc: 0.5998 - val_loss: 0.4571 - val_acc: 0.7222\n",
            "Epoch 27/50\n",
            "5/5 [==============================] - 0s 14ms/step - loss: 0.6550 - acc: 0.7490 - val_loss: 0.4121 - val_acc: 0.7778\n",
            "Epoch 28/50\n",
            "5/5 [==============================] - 0s 16ms/step - loss: 0.6249 - acc: 0.6723 - val_loss: 0.4827 - val_acc: 0.7222\n",
            "Epoch 29/50\n",
            "5/5 [==============================] - 0s 13ms/step - loss: 0.6654 - acc: 0.6941 - val_loss: 0.4347 - val_acc: 0.7778\n",
            "Epoch 30/50\n",
            "5/5 [==============================] - 0s 14ms/step - loss: 0.5959 - acc: 0.7206 - val_loss: 0.4321 - val_acc: 0.7222\n",
            "Epoch 31/50\n",
            "5/5 [==============================] - 0s 13ms/step - loss: 0.6958 - acc: 0.6681 - val_loss: 0.4234 - val_acc: 0.8333\n",
            "Epoch 32/50\n",
            "5/5 [==============================] - 0s 16ms/step - loss: 0.5927 - acc: 0.6918 - val_loss: 0.4264 - val_acc: 0.7778\n",
            "Epoch 33/50\n",
            "5/5 [==============================] - 0s 16ms/step - loss: 0.6858 - acc: 0.6495 - val_loss: 0.4941 - val_acc: 0.7222\n",
            "Epoch 34/50\n",
            "5/5 [==============================] - 0s 16ms/step - loss: 0.7402 - acc: 0.6019 - val_loss: 0.4272 - val_acc: 0.8333\n",
            "Epoch 35/50\n",
            "5/5 [==============================] - 0s 15ms/step - loss: 0.6746 - acc: 0.6702 - val_loss: 0.4444 - val_acc: 0.7778\n",
            "Epoch 36/50\n",
            "5/5 [==============================] - 0s 14ms/step - loss: 0.6118 - acc: 0.7078 - val_loss: 0.3658 - val_acc: 0.8333\n",
            "Epoch 37/50\n",
            "5/5 [==============================] - 0s 15ms/step - loss: 0.6396 - acc: 0.6697 - val_loss: 0.3933 - val_acc: 0.7778\n",
            "Epoch 38/50\n",
            "5/5 [==============================] - 0s 15ms/step - loss: 0.6316 - acc: 0.6895 - val_loss: 0.3967 - val_acc: 0.7778\n",
            "Epoch 39/50\n",
            "5/5 [==============================] - 0s 14ms/step - loss: 0.5413 - acc: 0.7518 - val_loss: 0.3241 - val_acc: 0.8889\n",
            "Epoch 40/50\n",
            "5/5 [==============================] - 0s 13ms/step - loss: 0.6147 - acc: 0.7341 - val_loss: 0.3734 - val_acc: 0.8889\n",
            "Epoch 41/50\n",
            "5/5 [==============================] - 0s 15ms/step - loss: 0.5852 - acc: 0.6919 - val_loss: 0.3663 - val_acc: 0.8333\n",
            "Epoch 42/50\n",
            "5/5 [==============================] - 0s 14ms/step - loss: 0.6227 - acc: 0.7300 - val_loss: 0.4331 - val_acc: 0.8333\n",
            "Epoch 43/50\n",
            "5/5 [==============================] - 0s 14ms/step - loss: 0.5971 - acc: 0.6799 - val_loss: 0.3823 - val_acc: 0.7778\n",
            "Epoch 44/50\n",
            "5/5 [==============================] - 0s 14ms/step - loss: 0.6207 - acc: 0.7200 - val_loss: 0.3331 - val_acc: 0.8333\n",
            "Epoch 45/50\n",
            "5/5 [==============================] - 0s 14ms/step - loss: 0.5799 - acc: 0.7707 - val_loss: 0.3482 - val_acc: 0.8333\n",
            "Epoch 46/50\n",
            "5/5 [==============================] - 0s 13ms/step - loss: 0.6346 - acc: 0.6969 - val_loss: 0.3736 - val_acc: 0.8889\n",
            "Epoch 47/50\n",
            "5/5 [==============================] - 0s 17ms/step - loss: 0.6326 - acc: 0.6628 - val_loss: 0.3294 - val_acc: 0.8889\n",
            "Epoch 48/50\n",
            "5/5 [==============================] - 0s 13ms/step - loss: 0.5775 - acc: 0.7451 - val_loss: 0.3033 - val_acc: 0.8889\n",
            "Epoch 49/50\n",
            "5/5 [==============================] - 0s 14ms/step - loss: 0.4937 - acc: 0.8007 - val_loss: 0.2938 - val_acc: 0.8889\n",
            "Epoch 50/50\n",
            "5/5 [==============================] - 0s 15ms/step - loss: 0.5376 - acc: 0.7747 - val_loss: 0.2433 - val_acc: 0.8889\n"
          ],
          "name": "stdout"
        }
      ]
    },
    {
      "cell_type": "markdown",
      "metadata": {
        "id": "Sr5ZVmnYJyO9"
      },
      "source": [
        "Visualizing the 'loss' and  'val_loss' to display the model preformance during the fitting process"
      ]
    },
    {
      "cell_type": "code",
      "metadata": {
        "id": "4Jq4Cj8PLtwj"
      },
      "source": [
        "wine_fit_plot = pd.DataFrame(wine_fit.history)"
      ],
      "execution_count": 24,
      "outputs": []
    },
    {
      "cell_type": "code",
      "metadata": {
        "colab": {
          "base_uri": "https://localhost:8080/",
          "height": 282
        },
        "id": "NAVjiAsoMFhp",
        "outputId": "cb69a8d7-530e-4bf6-9c8a-e032c06b8b9e"
      },
      "source": [
        "wine_fit_plot[['loss', 'val_loss']].plot.line()"
      ],
      "execution_count": 25,
      "outputs": [
        {
          "output_type": "execute_result",
          "data": {
            "text/plain": [
              "<matplotlib.axes._subplots.AxesSubplot at 0x7fb4948ff4e0>"
            ]
          },
          "metadata": {
            "tags": []
          },
          "execution_count": 25
        },
        {
          "output_type": "display_data",
          "data": {
            "image/png": "[encoded data removed]",
            "text/plain": [
              "<Figure size 432x288 with 1 Axes>"
            ]
          },
          "metadata": {
            "tags": [],
            "needs_background": "light"
          }
        }
      ]
    }
  ]
}