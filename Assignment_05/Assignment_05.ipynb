{
  "nbformat": 4,
  "nbformat_minor": 0,
  "metadata": {
    "colab": {
      "name": "Assignment_05.ipynb",
      "provenance": [],
      "collapsed_sections": []
    },
    "kernelspec": {
      "name": "python3",
      "display_name": "Python 3"
    },
    "accelerator": "GPU"
  },
  "cells": [
    {
      "cell_type": "code",
      "metadata": {
        "id": "1VFt8ke_eoT_"
      },
      "source": [
        "import tensorflow as tf\r\n",
        "import matplotlib.pyplot as plt\r\n",
        "import pandas as pd\r\n"
      ],
      "execution_count": 22,
      "outputs": []
    },
    {
      "cell_type": "code",
      "metadata": {
        "id": "9hJnqU6NnoCe"
      },
      "source": [
        "# setting the global seed of tensorflow to ensure having reproducible results\r\n",
        "tf.random.set_seed(42)"
      ],
      "execution_count": 23,
      "outputs": []
    },
    {
      "cell_type": "markdown",
      "metadata": {
        "id": "HxtzcensoZxc"
      },
      "source": [
        "## Dataset preparation processes"
      ]
    },
    {
      "cell_type": "markdown",
      "metadata": {
        "id": "nB4ZIqIOlUzc"
      },
      "source": [
        "Importing a dataset 'fashion_mnist' from Keras and splitting the dataset into training data ( data and labels for training) and testing  data ( data and labels for testing)"
      ]
    },
    {
      "cell_type": "code",
      "metadata": {
        "id": "fpOLxJxSjav7"
      },
      "source": [
        "(train_images, train_labels), (test_images, test_labels) = tf.keras.datasets.fashion_mnist.load_data()"
      ],
      "execution_count": 24,
      "outputs": []
    },
    {
      "cell_type": "markdown",
      "metadata": {
        "id": "0n6i2WeHoUso"
      },
      "source": [
        "One Hot encodeing the targets/outputs to get a better prediction"
      ]
    },
    {
      "cell_type": "code",
      "metadata": {
        "id": "sfgd6goaoUMX"
      },
      "source": [
        "train_labels = tf.one_hot(train_labels, depth=len(set(train_labels)))\r\n",
        "test_labels = tf.one_hot(test_labels, depth=len(set(test_labels)))"
      ],
      "execution_count": 25,
      "outputs": []
    },
    {
      "cell_type": "markdown",
      "metadata": {
        "id": "cpaolInJrRlu"
      },
      "source": [
        "To feed this data to train a CNN model we have to reshape this list to have a 4 dimensions  where '1' stands for channel dimension, since we have greyscaled images we have to use '1'. If it was RGB it will be '3' each one is representing one color scale."
      ]
    },
    {
      "cell_type": "code",
      "metadata": {
        "colab": {
          "base_uri": "https://localhost:8080/"
        },
        "id": "TvjzCh_rs4Gf",
        "outputId": "4886d730-be70-4a85-ead3-47afe7473bae"
      },
      "source": [
        "print(\"train images shape before reshaping: \", train_images.shape)\r\n",
        "print(\"test images shape before reshaping: \", test_images.shape)"
      ],
      "execution_count": 26,
      "outputs": [
        {
          "output_type": "stream",
          "text": [
            "train images shape before reshaping:  (60000, 28, 28)\n",
            "test images shape before reshaping:  (10000, 28, 28)\n"
          ],
          "name": "stdout"
        }
      ]
    },
    {
      "cell_type": "code",
      "metadata": {
        "id": "mFIG_UNWKw4d"
      },
      "source": [
        "train_images = train_images.reshape(train_images.shape[0], train_images.shape[1], train_images.shape[2], 1)\r\n",
        "test_images= test_images.reshape(test_images.shape[0], test_images.shape[1], test_images.shape[2], 1)"
      ],
      "execution_count": 27,
      "outputs": []
    },
    {
      "cell_type": "code",
      "metadata": {
        "colab": {
          "base_uri": "https://localhost:8080/"
        },
        "id": "ZBrrLXD-tS47",
        "outputId": "11bb057f-8ba6-4f4f-c219-caf1cd3b81ff"
      },
      "source": [
        "print(\"train images shape after reshaping: \", train_images.shape)\r\n",
        "print(\"test images shape after reshaping: \", test_images.shape)"
      ],
      "execution_count": 28,
      "outputs": [
        {
          "output_type": "stream",
          "text": [
            "train images shape after reshaping:  (60000, 28, 28, 1)\n",
            "test images shape after reshaping:  (10000, 28, 28, 1)\n"
          ],
          "name": "stdout"
        }
      ]
    },
    {
      "cell_type": "markdown",
      "metadata": {
        "id": "PaHgf24gSq5o"
      },
      "source": [
        "Implementing 'tf.data' API pipelines\r\n"
      ]
    },
    {
      "cell_type": "code",
      "metadata": {
        "id": "taV-IYMKShHS"
      },
      "source": [
        "def data_api(images, labels):\r\n",
        "    data = tf.data.Dataset.from_tensor_slices((images, labels)) # get the slices of the array in the form of objects\r\n",
        "    data = data.shuffle(60000, seed=42)\r\n",
        "    data = data.batch(32) # setting batch size to '32'\r\n",
        "    data = data.prefetch(tf.data.experimental.AUTOTUNE) # overlaps the preprocessing and model execution of a training step and automatically tuning the Neural Networks\r\n",
        "    return data\r\n"
      ],
      "execution_count": 29,
      "outputs": []
    },
    {
      "cell_type": "code",
      "metadata": {
        "id": "iOSgUmLJYRVd"
      },
      "source": [
        "train_dataset = data_api(train_images, train_labels)\r\n",
        "test_dataset = data_api(test_images, test_labels)"
      ],
      "execution_count": 30,
      "outputs": []
    },
    {
      "cell_type": "markdown",
      "metadata": {
        "id": "1VtVEDq9mtaH"
      },
      "source": [
        "## 1/ Building and Training Fully Connected Network (FCN/DNN)"
      ]
    },
    {
      "cell_type": "code",
      "metadata": {
        "id": "DYsFvKffr_lv"
      },
      "source": [
        "# to restart tensorflow state\r\n",
        "del tf\r\n",
        "import tensorflow as tf\r\n",
        "tf.random.set_seed(42)"
      ],
      "execution_count": null,
      "outputs": []
    },
    {
      "cell_type": "code",
      "metadata": {
        "id": "t1mCnNVDmhSe"
      },
      "source": [
        "DNN_model = tf.keras.Sequential([\r\n",
        "                                 tf.keras.layers.Input(shape=[28,28,1]), # input layer\r\n",
        "                                 tf.keras.layers.Flatten(), # removes all of the dimensions except for one\r\n",
        "                                 tf.keras.layers.Dense(128, activation=tf.nn.relu),\r\n",
        "                                 tf.keras.layers.Dropout(0.2), # using regularization technique to avoid overfitting\r\n",
        "                                 tf.keras.layers.Dense(32, activation=tf.nn.relu),\r\n",
        "                                 tf.keras.layers.Dropout(0.13),\r\n",
        "                                 tf.keras.layers.Dense(10, activation=tf.nn.softmax) # output layer\r\n",
        "])"
      ],
      "execution_count": null,
      "outputs": []
    },
    {
      "cell_type": "markdown",
      "metadata": {
        "id": "4sXay8oYxqD5"
      },
      "source": [
        "Using accuracy metric and loss function in the compile function to display training/validation accuracy during training"
      ]
    },
    {
      "cell_type": "code",
      "metadata": {
        "id": "2myY8s2eXZdP"
      },
      "source": [
        "DNN_model.compile(optimizer='Adam', loss=tf.losses.CategoricalCrossentropy(), metrics='acc')"
      ],
      "execution_count": null,
      "outputs": []
    },
    {
      "cell_type": "code",
      "metadata": {
        "colab": {
          "base_uri": "https://localhost:8080/"
        },
        "id": "HgL-Dv2EYF0H",
        "outputId": "018e8f0c-914f-4e27-9818-1e8ca9846405"
      },
      "source": [
        "DNN_model.fit(train_dataset,epochs=50,validation_data=(test_dataset))"
      ],
      "execution_count": null,
      "outputs": [
        {
          "output_type": "stream",
          "text": [
            "Epoch 1/50\n",
            "1875/1875 [==============================] - 6s 3ms/step - loss: 5.9167 - acc: 0.2823 - val_loss: 1.2801 - val_acc: 0.4837\n",
            "Epoch 2/50\n",
            "1875/1875 [==============================] - 6s 3ms/step - loss: 1.3802 - acc: 0.4656 - val_loss: 1.0747 - val_acc: 0.5493\n",
            "Epoch 3/50\n",
            "1875/1875 [==============================] - 5s 3ms/step - loss: 1.1960 - acc: 0.5227 - val_loss: 1.0002 - val_acc: 0.5654\n",
            "Epoch 4/50\n",
            "1875/1875 [==============================] - 5s 3ms/step - loss: 1.0886 - acc: 0.5672 - val_loss: 0.7834 - val_acc: 0.7080\n",
            "Epoch 5/50\n",
            "1875/1875 [==============================] - 5s 3ms/step - loss: 0.9159 - acc: 0.6503 - val_loss: 0.6982 - val_acc: 0.7347\n",
            "Epoch 6/50\n",
            "1875/1875 [==============================] - 5s 3ms/step - loss: 0.8546 - acc: 0.6772 - val_loss: 0.6683 - val_acc: 0.7481\n",
            "Epoch 7/50\n",
            "1875/1875 [==============================] - 5s 3ms/step - loss: 0.8184 - acc: 0.6951 - val_loss: 0.6456 - val_acc: 0.7707\n",
            "Epoch 8/50\n",
            "1875/1875 [==============================] - 5s 3ms/step - loss: 0.7501 - acc: 0.7337 - val_loss: 0.5563 - val_acc: 0.8179\n",
            "Epoch 9/50\n",
            "1875/1875 [==============================] - 5s 3ms/step - loss: 0.6528 - acc: 0.7719 - val_loss: 0.5547 - val_acc: 0.8067\n",
            "Epoch 10/50\n",
            "1875/1875 [==============================] - 5s 2ms/step - loss: 0.6253 - acc: 0.7789 - val_loss: 0.5323 - val_acc: 0.8181\n",
            "Epoch 11/50\n",
            "1875/1875 [==============================] - 5s 3ms/step - loss: 0.5953 - acc: 0.7921 - val_loss: 0.5004 - val_acc: 0.8334\n",
            "Epoch 12/50\n",
            "1875/1875 [==============================] - 5s 3ms/step - loss: 0.5768 - acc: 0.8004 - val_loss: 0.4899 - val_acc: 0.8351\n",
            "Epoch 13/50\n",
            "1875/1875 [==============================] - 5s 2ms/step - loss: 0.5446 - acc: 0.8072 - val_loss: 0.5213 - val_acc: 0.8108\n",
            "Epoch 14/50\n",
            "1875/1875 [==============================] - 5s 2ms/step - loss: 0.5335 - acc: 0.8101 - val_loss: 0.4749 - val_acc: 0.8274\n",
            "Epoch 15/50\n",
            "1875/1875 [==============================] - 5s 2ms/step - loss: 0.5025 - acc: 0.8183 - val_loss: 0.4680 - val_acc: 0.8353\n",
            "Epoch 16/50\n",
            "1875/1875 [==============================] - 5s 2ms/step - loss: 0.5103 - acc: 0.8176 - val_loss: 0.4771 - val_acc: 0.8315\n",
            "Epoch 17/50\n",
            "1875/1875 [==============================] - 5s 2ms/step - loss: 0.5154 - acc: 0.8186 - val_loss: 0.4764 - val_acc: 0.8337\n",
            "Epoch 18/50\n",
            "1875/1875 [==============================] - 5s 2ms/step - loss: 0.4920 - acc: 0.8213 - val_loss: 0.4591 - val_acc: 0.8287\n",
            "Epoch 19/50\n",
            "1875/1875 [==============================] - 5s 3ms/step - loss: 0.4920 - acc: 0.8239 - val_loss: 0.4780 - val_acc: 0.8376\n",
            "Epoch 20/50\n",
            "1875/1875 [==============================] - 5s 2ms/step - loss: 0.4953 - acc: 0.8227 - val_loss: 0.4763 - val_acc: 0.8420\n",
            "Epoch 21/50\n",
            "1875/1875 [==============================] - 5s 2ms/step - loss: 0.4905 - acc: 0.8275 - val_loss: 0.4705 - val_acc: 0.8473\n",
            "Epoch 22/50\n",
            "1875/1875 [==============================] - 5s 2ms/step - loss: 0.4938 - acc: 0.8250 - val_loss: 0.4539 - val_acc: 0.8508\n",
            "Epoch 23/50\n",
            "1875/1875 [==============================] - 5s 2ms/step - loss: 0.4828 - acc: 0.8307 - val_loss: 0.4483 - val_acc: 0.8466\n",
            "Epoch 24/50\n",
            "1875/1875 [==============================] - 5s 3ms/step - loss: 0.4732 - acc: 0.8299 - val_loss: 0.4521 - val_acc: 0.8436\n",
            "Epoch 25/50\n",
            "1875/1875 [==============================] - 5s 3ms/step - loss: 0.4672 - acc: 0.8351 - val_loss: 0.4595 - val_acc: 0.8477\n",
            "Epoch 26/50\n",
            "1875/1875 [==============================] - 5s 3ms/step - loss: 0.4653 - acc: 0.8336 - val_loss: 0.4497 - val_acc: 0.8500\n",
            "Epoch 27/50\n",
            "1875/1875 [==============================] - 5s 3ms/step - loss: 0.4569 - acc: 0.8403 - val_loss: 0.4533 - val_acc: 0.8402\n",
            "Epoch 28/50\n",
            "1875/1875 [==============================] - 5s 3ms/step - loss: 0.4806 - acc: 0.8284 - val_loss: 0.4358 - val_acc: 0.8533\n",
            "Epoch 29/50\n",
            "1875/1875 [==============================] - 5s 2ms/step - loss: 0.4549 - acc: 0.8383 - val_loss: 0.4676 - val_acc: 0.8476\n",
            "Epoch 30/50\n",
            "1875/1875 [==============================] - 5s 2ms/step - loss: 0.4752 - acc: 0.8301 - val_loss: 0.4358 - val_acc: 0.8545\n",
            "Epoch 31/50\n",
            "1875/1875 [==============================] - 5s 2ms/step - loss: 0.4490 - acc: 0.8409 - val_loss: 0.4830 - val_acc: 0.8394\n",
            "Epoch 32/50\n",
            "1875/1875 [==============================] - 5s 2ms/step - loss: 0.4491 - acc: 0.8387 - val_loss: 0.4312 - val_acc: 0.8556\n",
            "Epoch 33/50\n",
            "1875/1875 [==============================] - 5s 3ms/step - loss: 0.4449 - acc: 0.8421 - val_loss: 0.4785 - val_acc: 0.8498\n",
            "Epoch 34/50\n",
            "1875/1875 [==============================] - 5s 2ms/step - loss: 0.4470 - acc: 0.8402 - val_loss: 0.4408 - val_acc: 0.8581\n",
            "Epoch 35/50\n",
            "1875/1875 [==============================] - 5s 3ms/step - loss: 0.4459 - acc: 0.8411 - val_loss: 0.4533 - val_acc: 0.8543\n",
            "Epoch 36/50\n",
            "1875/1875 [==============================] - 5s 3ms/step - loss: 0.4446 - acc: 0.8420 - val_loss: 0.4558 - val_acc: 0.8561\n",
            "Epoch 37/50\n",
            "1875/1875 [==============================] - 5s 2ms/step - loss: 0.4377 - acc: 0.8422 - val_loss: 0.4794 - val_acc: 0.8408\n",
            "Epoch 38/50\n",
            "1875/1875 [==============================] - 5s 2ms/step - loss: 0.4433 - acc: 0.8409 - val_loss: 0.4880 - val_acc: 0.8530\n",
            "Epoch 39/50\n",
            "1875/1875 [==============================] - 5s 2ms/step - loss: 0.4416 - acc: 0.8416 - val_loss: 0.4482 - val_acc: 0.8509\n",
            "Epoch 40/50\n",
            "1875/1875 [==============================] - 5s 2ms/step - loss: 0.4307 - acc: 0.8459 - val_loss: 0.4603 - val_acc: 0.8531\n",
            "Epoch 41/50\n",
            "1875/1875 [==============================] - 5s 2ms/step - loss: 0.4290 - acc: 0.8478 - val_loss: 0.5339 - val_acc: 0.8431\n",
            "Epoch 42/50\n",
            "1875/1875 [==============================] - 5s 2ms/step - loss: 0.4445 - acc: 0.8452 - val_loss: 0.4336 - val_acc: 0.8503\n",
            "Epoch 43/50\n",
            "1875/1875 [==============================] - 5s 3ms/step - loss: 0.4307 - acc: 0.8443 - val_loss: 0.4567 - val_acc: 0.8536\n",
            "Epoch 44/50\n",
            "1875/1875 [==============================] - 5s 3ms/step - loss: 0.4212 - acc: 0.8505 - val_loss: 0.4505 - val_acc: 0.8565\n",
            "Epoch 45/50\n",
            "1875/1875 [==============================] - 5s 3ms/step - loss: 0.4260 - acc: 0.8492 - val_loss: 0.4767 - val_acc: 0.8552\n",
            "Epoch 46/50\n",
            "1875/1875 [==============================] - 5s 3ms/step - loss: 0.4356 - acc: 0.8451 - val_loss: 0.4397 - val_acc: 0.8560\n",
            "Epoch 47/50\n",
            "1875/1875 [==============================] - 5s 2ms/step - loss: 0.4303 - acc: 0.8487 - val_loss: 0.4409 - val_acc: 0.8497\n",
            "Epoch 48/50\n",
            "1875/1875 [==============================] - 5s 2ms/step - loss: 0.4156 - acc: 0.8530 - val_loss: 0.4674 - val_acc: 0.8557\n",
            "Epoch 49/50\n",
            "1875/1875 [==============================] - 5s 3ms/step - loss: 0.4433 - acc: 0.8478 - val_loss: 0.4448 - val_acc: 0.8467\n",
            "Epoch 50/50\n",
            "1875/1875 [==============================] - 5s 2ms/step - loss: 0.4164 - acc: 0.8523 - val_loss: 0.4685 - val_acc: 0.8537\n"
          ],
          "name": "stdout"
        },
        {
          "output_type": "execute_result",
          "data": {
            "text/plain": [
              "<tensorflow.python.keras.callbacks.History at 0x7f901795beb8>"
            ]
          },
          "metadata": {
            "tags": []
          },
          "execution_count": 168
        }
      ]
    },
    {
      "cell_type": "markdown",
      "metadata": {
        "id": "SmYpUyrCwjR_"
      },
      "source": [
        "Plotting the loss/validation loss value over the training epochs"
      ]
    },
    {
      "cell_type": "code",
      "metadata": {
        "colab": {
          "base_uri": "https://localhost:8080/",
          "height": 282
        },
        "id": "ApYr-mfqrcG3",
        "outputId": "6de9141d-e788-46d3-8047-39e61069b620"
      },
      "source": [
        "DNN_fit_history = pd.DataFrame(DNN_model.history.history)\r\n",
        "DNN_fit_history[['loss', 'val_loss']].plot.line()"
      ],
      "execution_count": null,
      "outputs": [
        {
          "output_type": "execute_result",
          "data": {
            "text/plain": [
              "<matplotlib.axes._subplots.AxesSubplot at 0x7f901ee79be0>"
            ]
          },
          "metadata": {
            "tags": []
          },
          "execution_count": 170
        },
        {
          "output_type": "display_data",
          "data": {
            "image/png": "[encoded data removed]",
            "text/plain": [
              "<Figure size 432x288 with 1 Axes>"
            ]
          },
          "metadata": {
            "tags": [],
            "needs_background": "light"
          }
        }
      ]
    },
    {
      "cell_type": "markdown",
      "metadata": {
        "id": "LrfwfNKqmzBl"
      },
      "source": [
        "## 2/ Building and Training Convolutional Neural Network (CNN)"
      ]
    },
    {
      "cell_type": "code",
      "metadata": {
        "id": "U8X81PVg9gTq"
      },
      "source": [
        "# to restart tensorflow state\r\n",
        "del tf\r\n",
        "import tensorflow as tf\r\n",
        "tf.random.set_seed(42)"
      ],
      "execution_count": null,
      "outputs": []
    },
    {
      "cell_type": "code",
      "metadata": {
        "id": "YXPi-SZdm2nI"
      },
      "source": [
        "CNN_model = tf.keras.Sequential([\r\n",
        "              tf.keras.Input(shape=[28,28,1]), # input layer\r\n",
        "              tf.keras.layers.Conv2D(filters=32, kernel_size=3, strides=1, padding='same', activation=tf.nn.relu),\r\n",
        "              tf.keras.layers.BatchNormalization(), # so that noise due to mini-batch can be ignored\r\n",
        "              tf.keras.layers.MaxPool2D((2,2)), # downsamples the input representation by taking the maximum value over the window '(2,2)'\r\n",
        "              tf.keras.layers.Conv2D(filters=64, kernel_size=3, strides=1, padding='same', activation=tf.nn.relu),\r\n",
        "              tf.keras.layers.BatchNormalization(),\r\n",
        "              tf.keras.layers.MaxPool2D((2,2)), \r\n",
        "              tf.keras.layers.Conv2D(filters=128, kernel_size=3, strides=1, padding='same', activation=tf.nn.relu),\r\n",
        "              tf.keras.layers.BatchNormalization(),\r\n",
        "              tf.keras.layers.Conv2D(filters=128, kernel_size=3, strides=1, padding='same', activation=tf.nn.relu),\r\n",
        "              tf.keras.layers.BatchNormalization(),\r\n",
        "              tf.keras.layers.MaxPool2D((2,2)),\r\n",
        "              tf.keras.layers.Dropout(0.2), # using regularization technique to avoid overfitting\r\n",
        "\r\n",
        "\r\n",
        "              tf.keras.layers.Flatten(),\r\n",
        "              tf.keras.layers.Dense(128, activation=tf.nn.relu, bias_regularizer='l2', kernel_regularizer='l2', activity_regularizer='l2'), # using regularizers \r\n",
        "              tf.keras.layers.Dropout(0.2),\r\n",
        "              tf.keras.layers.Dense(64, activation=tf.nn.relu, bias_regularizer='l2', kernel_regularizer='l2', activity_regularizer='l2'),\r\n",
        "              tf.keras.layers.Dropout(0.1),\r\n",
        "              tf.keras.layers.Dense(10, activation=tf.nn.softmax) # output layer\r\n",
        "])"
      ],
      "execution_count": null,
      "outputs": []
    },
    {
      "cell_type": "markdown",
      "metadata": {
        "id": "4EG8SAG1xa1R"
      },
      "source": [
        "Using accuracy metric and loss function in the compile function to display training/validation accuracy during training"
      ]
    },
    {
      "cell_type": "code",
      "metadata": {
        "id": "hZm_WD2X8h4h"
      },
      "source": [
        "CNN_model.compile(optimizer='Adam', loss=tf.losses.CategoricalCrossentropy(), metrics='acc')"
      ],
      "execution_count": null,
      "outputs": []
    },
    {
      "cell_type": "code",
      "metadata": {
        "colab": {
          "base_uri": "https://localhost:8080/"
        },
        "id": "7BmSBxyU8OdL",
        "outputId": "06b155f1-618e-43bf-a243-76ccbc1551a1"
      },
      "source": [
        "CNN_model.fit(train_dataset, epochs=100, validation_data=test_dataset)"
      ],
      "execution_count": null,
      "outputs": [
        {
          "output_type": "stream",
          "text": [
            "Epoch 1/100\n",
            "1875/1875 [==============================] - 10s 5ms/step - loss: 2.2061 - acc: 0.6983 - val_loss: 0.6298 - val_acc: 0.8738\n",
            "Epoch 2/100\n",
            "1875/1875 [==============================] - 9s 5ms/step - loss: 0.6031 - acc: 0.8821 - val_loss: 0.4918 - val_acc: 0.9000\n",
            "Epoch 3/100\n",
            "1875/1875 [==============================] - 9s 5ms/step - loss: 0.4981 - acc: 0.9009 - val_loss: 0.4404 - val_acc: 0.9029\n",
            "Epoch 4/100\n",
            "1875/1875 [==============================] - 9s 5ms/step - loss: 0.4304 - acc: 0.9134 - val_loss: 0.4118 - val_acc: 0.9121\n",
            "Epoch 5/100\n",
            "1875/1875 [==============================] - 9s 5ms/step - loss: 0.3896 - acc: 0.9226 - val_loss: 0.4242 - val_acc: 0.9025\n",
            "Epoch 6/100\n",
            "1875/1875 [==============================] - 9s 5ms/step - loss: 0.3596 - acc: 0.9291 - val_loss: 0.4130 - val_acc: 0.9070\n",
            "Epoch 7/100\n",
            "1875/1875 [==============================] - 9s 5ms/step - loss: 0.3475 - acc: 0.9313 - val_loss: 0.3816 - val_acc: 0.9116\n",
            "Epoch 8/100\n",
            "1875/1875 [==============================] - 9s 5ms/step - loss: 0.3215 - acc: 0.9383 - val_loss: 0.4151 - val_acc: 0.8994\n",
            "Epoch 9/100\n",
            "1875/1875 [==============================] - 9s 5ms/step - loss: 0.3031 - acc: 0.9423 - val_loss: 0.3610 - val_acc: 0.9184\n",
            "Epoch 10/100\n",
            "1875/1875 [==============================] - 9s 5ms/step - loss: 0.2991 - acc: 0.9440 - val_loss: 0.4097 - val_acc: 0.9075\n",
            "Epoch 11/100\n",
            "1875/1875 [==============================] - 9s 5ms/step - loss: 0.2783 - acc: 0.9496 - val_loss: 0.3589 - val_acc: 0.9157\n",
            "Epoch 12/100\n",
            "1875/1875 [==============================] - 9s 5ms/step - loss: 0.2736 - acc: 0.9520 - val_loss: 0.4093 - val_acc: 0.9009\n",
            "Epoch 13/100\n",
            "1875/1875 [==============================] - 9s 5ms/step - loss: 0.2552 - acc: 0.9550 - val_loss: 0.3568 - val_acc: 0.9203\n",
            "Epoch 14/100\n",
            "1875/1875 [==============================] - 9s 5ms/step - loss: 0.2467 - acc: 0.9583 - val_loss: 0.3555 - val_acc: 0.9177\n",
            "Epoch 15/100\n",
            "1875/1875 [==============================] - 9s 5ms/step - loss: 0.2370 - acc: 0.9611 - val_loss: 0.3759 - val_acc: 0.9208\n",
            "Epoch 16/100\n",
            "1875/1875 [==============================] - 9s 5ms/step - loss: 0.2333 - acc: 0.9641 - val_loss: 0.3778 - val_acc: 0.9176\n",
            "Epoch 17/100\n",
            "1875/1875 [==============================] - 9s 5ms/step - loss: 0.2243 - acc: 0.9649 - val_loss: 0.3852 - val_acc: 0.9174\n",
            "Epoch 18/100\n",
            "1875/1875 [==============================] - 9s 5ms/step - loss: 0.2213 - acc: 0.9666 - val_loss: 0.3804 - val_acc: 0.9107\n",
            "Epoch 19/100\n",
            "1875/1875 [==============================] - 9s 5ms/step - loss: 0.2069 - acc: 0.9690 - val_loss: 0.3650 - val_acc: 0.9225\n",
            "Epoch 20/100\n",
            "1875/1875 [==============================] - 9s 5ms/step - loss: 0.2081 - acc: 0.9681 - val_loss: 0.3820 - val_acc: 0.9177\n",
            "Epoch 21/100\n",
            "1875/1875 [==============================] - 9s 5ms/step - loss: 0.1983 - acc: 0.9708 - val_loss: 0.3650 - val_acc: 0.9228\n",
            "Epoch 22/100\n",
            "1875/1875 [==============================] - 9s 5ms/step - loss: 0.1975 - acc: 0.9716 - val_loss: 0.3742 - val_acc: 0.9193\n",
            "Epoch 23/100\n",
            "1875/1875 [==============================] - 9s 5ms/step - loss: 0.1898 - acc: 0.9739 - val_loss: 0.4341 - val_acc: 0.9054\n",
            "Epoch 24/100\n",
            "1875/1875 [==============================] - 9s 5ms/step - loss: 0.1842 - acc: 0.9760 - val_loss: 0.3931 - val_acc: 0.9158\n",
            "Epoch 25/100\n",
            "1875/1875 [==============================] - 9s 5ms/step - loss: 0.1775 - acc: 0.9771 - val_loss: 0.3934 - val_acc: 0.9171\n",
            "Epoch 26/100\n",
            "1875/1875 [==============================] - 9s 5ms/step - loss: 0.1806 - acc: 0.9763 - val_loss: 0.4078 - val_acc: 0.9108\n",
            "Epoch 27/100\n",
            "1875/1875 [==============================] - 9s 5ms/step - loss: 0.1731 - acc: 0.9780 - val_loss: 0.4208 - val_acc: 0.9156\n",
            "Epoch 28/100\n",
            "1875/1875 [==============================] - 9s 5ms/step - loss: 0.1740 - acc: 0.9786 - val_loss: 0.3965 - val_acc: 0.9191\n",
            "Epoch 29/100\n",
            "1875/1875 [==============================] - 9s 5ms/step - loss: 0.1662 - acc: 0.9797 - val_loss: 0.4918 - val_acc: 0.8942\n",
            "Epoch 30/100\n",
            "1875/1875 [==============================] - 9s 5ms/step - loss: 0.1800 - acc: 0.9776 - val_loss: 0.4032 - val_acc: 0.9201\n",
            "Epoch 31/100\n",
            "1875/1875 [==============================] - 9s 5ms/step - loss: 0.1627 - acc: 0.9815 - val_loss: 0.4160 - val_acc: 0.9142\n",
            "Epoch 32/100\n",
            "1875/1875 [==============================] - 9s 5ms/step - loss: 0.1641 - acc: 0.9809 - val_loss: 0.4298 - val_acc: 0.9151\n",
            "Epoch 33/100\n",
            "1875/1875 [==============================] - 9s 5ms/step - loss: 0.1567 - acc: 0.9825 - val_loss: 0.4385 - val_acc: 0.9113\n",
            "Epoch 34/100\n",
            "1875/1875 [==============================] - 9s 5ms/step - loss: 0.1596 - acc: 0.9822 - val_loss: 0.3840 - val_acc: 0.9199\n",
            "Epoch 35/100\n",
            "1875/1875 [==============================] - 9s 5ms/step - loss: 0.1478 - acc: 0.9844 - val_loss: 0.4199 - val_acc: 0.9167\n",
            "Epoch 36/100\n",
            "1875/1875 [==============================] - 9s 5ms/step - loss: 0.1498 - acc: 0.9831 - val_loss: 0.4301 - val_acc: 0.9172\n",
            "Epoch 37/100\n",
            "1875/1875 [==============================] - 9s 5ms/step - loss: 0.1501 - acc: 0.9834 - val_loss: 0.4142 - val_acc: 0.9211\n",
            "Epoch 38/100\n",
            "1875/1875 [==============================] - 9s 5ms/step - loss: 0.1418 - acc: 0.9860 - val_loss: 0.4429 - val_acc: 0.9124\n",
            "Epoch 39/100\n",
            "1875/1875 [==============================] - 9s 5ms/step - loss: 0.1461 - acc: 0.9852 - val_loss: 0.3919 - val_acc: 0.9213\n",
            "Epoch 40/100\n",
            "1875/1875 [==============================] - 9s 5ms/step - loss: 0.1421 - acc: 0.9850 - val_loss: 0.3999 - val_acc: 0.9211\n",
            "Epoch 41/100\n",
            "1875/1875 [==============================] - 9s 5ms/step - loss: 0.1404 - acc: 0.9850 - val_loss: 0.4547 - val_acc: 0.9141\n",
            "Epoch 42/100\n",
            "1875/1875 [==============================] - 9s 5ms/step - loss: 0.1451 - acc: 0.9849 - val_loss: 0.4453 - val_acc: 0.9182\n",
            "Epoch 43/100\n",
            "1875/1875 [==============================] - 9s 5ms/step - loss: 0.1418 - acc: 0.9854 - val_loss: 0.4201 - val_acc: 0.9114\n",
            "Epoch 44/100\n",
            "1875/1875 [==============================] - 9s 5ms/step - loss: 0.1311 - acc: 0.9877 - val_loss: 0.3861 - val_acc: 0.9239\n",
            "Epoch 45/100\n",
            "1875/1875 [==============================] - 9s 5ms/step - loss: 0.1402 - acc: 0.9865 - val_loss: 0.4178 - val_acc: 0.9178\n",
            "Epoch 46/100\n",
            "1875/1875 [==============================] - 9s 5ms/step - loss: 0.1333 - acc: 0.9871 - val_loss: 0.4312 - val_acc: 0.9180\n",
            "Epoch 47/100\n",
            "1875/1875 [==============================] - 9s 5ms/step - loss: 0.1393 - acc: 0.9859 - val_loss: 0.4464 - val_acc: 0.9141\n",
            "Epoch 48/100\n",
            "1875/1875 [==============================] - 9s 5ms/step - loss: 0.1430 - acc: 0.9861 - val_loss: 0.4244 - val_acc: 0.9189\n",
            "Epoch 49/100\n",
            "1875/1875 [==============================] - 9s 5ms/step - loss: 0.1302 - acc: 0.9877 - val_loss: 0.4642 - val_acc: 0.9137\n",
            "Epoch 50/100\n",
            "1875/1875 [==============================] - 9s 5ms/step - loss: 0.1344 - acc: 0.9876 - val_loss: 0.4190 - val_acc: 0.9184\n",
            "Epoch 51/100\n",
            "1875/1875 [==============================] - 9s 5ms/step - loss: 0.1321 - acc: 0.9884 - val_loss: 0.4416 - val_acc: 0.9195\n",
            "Epoch 52/100\n",
            "1875/1875 [==============================] - 9s 5ms/step - loss: 0.1277 - acc: 0.9888 - val_loss: 0.5235 - val_acc: 0.9094\n",
            "Epoch 53/100\n",
            "1875/1875 [==============================] - 9s 5ms/step - loss: 0.1367 - acc: 0.9872 - val_loss: 0.4768 - val_acc: 0.9196\n",
            "Epoch 54/100\n",
            "1875/1875 [==============================] - 9s 5ms/step - loss: 0.1237 - acc: 0.9899 - val_loss: 0.4183 - val_acc: 0.9207\n",
            "Epoch 55/100\n",
            "1875/1875 [==============================] - 9s 5ms/step - loss: 0.1329 - acc: 0.9876 - val_loss: 0.4485 - val_acc: 0.9174\n",
            "Epoch 56/100\n",
            "1875/1875 [==============================] - 9s 5ms/step - loss: 0.1250 - acc: 0.9892 - val_loss: 0.4300 - val_acc: 0.9183\n",
            "Epoch 57/100\n",
            "1875/1875 [==============================] - 9s 5ms/step - loss: 0.1164 - acc: 0.9905 - val_loss: 0.4650 - val_acc: 0.9210\n",
            "Epoch 58/100\n",
            "1875/1875 [==============================] - 9s 5ms/step - loss: 0.1271 - acc: 0.9890 - val_loss: 0.5471 - val_acc: 0.8956\n",
            "Epoch 59/100\n",
            "1875/1875 [==============================] - 9s 5ms/step - loss: 0.1277 - acc: 0.9885 - val_loss: 0.4716 - val_acc: 0.9119\n",
            "Epoch 60/100\n",
            "1875/1875 [==============================] - 9s 5ms/step - loss: 0.1247 - acc: 0.9885 - val_loss: 0.4152 - val_acc: 0.9186\n",
            "Epoch 61/100\n",
            "1875/1875 [==============================] - 9s 5ms/step - loss: 0.1213 - acc: 0.9898 - val_loss: 0.4372 - val_acc: 0.9227\n",
            "Epoch 62/100\n",
            "1875/1875 [==============================] - 9s 5ms/step - loss: 0.1283 - acc: 0.9879 - val_loss: 0.4423 - val_acc: 0.9206\n",
            "Epoch 63/100\n",
            "1875/1875 [==============================] - 9s 5ms/step - loss: 0.1121 - acc: 0.9919 - val_loss: 0.4399 - val_acc: 0.9235\n",
            "Epoch 64/100\n",
            "1875/1875 [==============================] - 9s 5ms/step - loss: 0.1291 - acc: 0.9898 - val_loss: 0.4489 - val_acc: 0.9191\n",
            "Epoch 65/100\n",
            "1875/1875 [==============================] - 9s 5ms/step - loss: 0.1225 - acc: 0.9891 - val_loss: 0.4357 - val_acc: 0.9168\n",
            "Epoch 66/100\n",
            "1875/1875 [==============================] - 9s 5ms/step - loss: 0.1164 - acc: 0.9907 - val_loss: 0.4369 - val_acc: 0.9217\n",
            "Epoch 67/100\n",
            "1875/1875 [==============================] - 9s 5ms/step - loss: 0.1225 - acc: 0.9898 - val_loss: 0.4886 - val_acc: 0.9168\n",
            "Epoch 68/100\n",
            "1875/1875 [==============================] - 9s 5ms/step - loss: 0.1112 - acc: 0.9919 - val_loss: 0.4402 - val_acc: 0.9215\n",
            "Epoch 69/100\n",
            "1875/1875 [==============================] - 9s 5ms/step - loss: 0.1155 - acc: 0.9905 - val_loss: 0.4403 - val_acc: 0.9169\n",
            "Epoch 70/100\n",
            "1875/1875 [==============================] - 9s 5ms/step - loss: 0.1158 - acc: 0.9903 - val_loss: 0.4540 - val_acc: 0.9188\n",
            "Epoch 71/100\n",
            "1875/1875 [==============================] - 9s 5ms/step - loss: 0.1161 - acc: 0.9903 - val_loss: 0.4507 - val_acc: 0.9194\n",
            "Epoch 72/100\n",
            "1875/1875 [==============================] - 9s 5ms/step - loss: 0.1158 - acc: 0.9912 - val_loss: 0.4780 - val_acc: 0.9172\n",
            "Epoch 73/100\n",
            "1875/1875 [==============================] - 9s 5ms/step - loss: 0.1135 - acc: 0.9904 - val_loss: 0.4979 - val_acc: 0.9176\n",
            "Epoch 74/100\n",
            "1875/1875 [==============================] - 9s 5ms/step - loss: 0.1150 - acc: 0.9911 - val_loss: 0.5466 - val_acc: 0.9097\n",
            "Epoch 75/100\n",
            "1875/1875 [==============================] - 9s 5ms/step - loss: 0.1187 - acc: 0.9899 - val_loss: 0.4742 - val_acc: 0.9234\n",
            "Epoch 76/100\n",
            "1875/1875 [==============================] - 9s 5ms/step - loss: 0.1139 - acc: 0.9915 - val_loss: 0.4781 - val_acc: 0.9182\n",
            "Epoch 77/100\n",
            "1875/1875 [==============================] - 9s 5ms/step - loss: 0.1052 - acc: 0.9923 - val_loss: 0.4697 - val_acc: 0.9201\n",
            "Epoch 78/100\n",
            "1875/1875 [==============================] - 9s 5ms/step - loss: 0.1174 - acc: 0.9914 - val_loss: 0.4921 - val_acc: 0.9181\n",
            "Epoch 79/100\n",
            "1875/1875 [==============================] - 9s 5ms/step - loss: 0.1144 - acc: 0.9908 - val_loss: 0.4966 - val_acc: 0.9121\n",
            "Epoch 80/100\n",
            "1875/1875 [==============================] - 9s 5ms/step - loss: 0.1127 - acc: 0.9919 - val_loss: 0.5056 - val_acc: 0.9146\n",
            "Epoch 81/100\n",
            "1875/1875 [==============================] - 9s 5ms/step - loss: 0.1124 - acc: 0.9909 - val_loss: 0.4730 - val_acc: 0.9177\n",
            "Epoch 82/100\n",
            "1875/1875 [==============================] - 9s 5ms/step - loss: 0.1126 - acc: 0.9914 - val_loss: 0.4201 - val_acc: 0.9202\n",
            "Epoch 83/100\n",
            "1875/1875 [==============================] - 9s 5ms/step - loss: 0.1094 - acc: 0.9920 - val_loss: 0.4566 - val_acc: 0.9205\n",
            "Epoch 84/100\n",
            "1875/1875 [==============================] - 9s 5ms/step - loss: 0.1158 - acc: 0.9912 - val_loss: 0.4471 - val_acc: 0.9209\n",
            "Epoch 85/100\n",
            "1875/1875 [==============================] - 9s 5ms/step - loss: 0.1069 - acc: 0.9915 - val_loss: 0.4802 - val_acc: 0.9148\n",
            "Epoch 86/100\n",
            "1875/1875 [==============================] - 9s 5ms/step - loss: 0.1140 - acc: 0.9913 - val_loss: 0.4976 - val_acc: 0.9094\n",
            "Epoch 87/100\n",
            "1875/1875 [==============================] - 9s 5ms/step - loss: 0.1041 - acc: 0.9917 - val_loss: 0.4758 - val_acc: 0.9198\n",
            "Epoch 88/100\n",
            "1875/1875 [==============================] - 9s 5ms/step - loss: 0.1021 - acc: 0.9925 - val_loss: 0.5100 - val_acc: 0.9184\n",
            "Epoch 89/100\n",
            "1875/1875 [==============================] - 9s 5ms/step - loss: 0.1115 - acc: 0.9926 - val_loss: 0.4706 - val_acc: 0.9180\n",
            "Epoch 90/100\n",
            "1875/1875 [==============================] - 9s 5ms/step - loss: 0.1017 - acc: 0.9923 - val_loss: 0.4470 - val_acc: 0.9217\n",
            "Epoch 91/100\n",
            "1875/1875 [==============================] - 9s 5ms/step - loss: 0.0994 - acc: 0.9933 - val_loss: 0.4758 - val_acc: 0.9150\n",
            "Epoch 92/100\n",
            "1875/1875 [==============================] - 9s 5ms/step - loss: 0.1066 - acc: 0.9924 - val_loss: 0.4492 - val_acc: 0.9177\n",
            "Epoch 93/100\n",
            "1875/1875 [==============================] - 9s 5ms/step - loss: 0.0989 - acc: 0.9935 - val_loss: 0.4513 - val_acc: 0.9201\n",
            "Epoch 94/100\n",
            "1875/1875 [==============================] - 9s 5ms/step - loss: 0.0926 - acc: 0.9939 - val_loss: 0.4703 - val_acc: 0.9201\n",
            "Epoch 95/100\n",
            "1875/1875 [==============================] - 9s 5ms/step - loss: 0.1025 - acc: 0.9930 - val_loss: 0.4658 - val_acc: 0.9204\n",
            "Epoch 96/100\n",
            "1875/1875 [==============================] - 9s 5ms/step - loss: 0.0969 - acc: 0.9933 - val_loss: 0.5200 - val_acc: 0.9184\n",
            "Epoch 97/100\n",
            "1875/1875 [==============================] - 9s 5ms/step - loss: 0.1071 - acc: 0.9936 - val_loss: 0.4980 - val_acc: 0.9199\n",
            "Epoch 98/100\n",
            "1875/1875 [==============================] - 9s 5ms/step - loss: 0.1054 - acc: 0.9930 - val_loss: 0.4970 - val_acc: 0.9186\n",
            "Epoch 99/100\n",
            "1875/1875 [==============================] - 9s 5ms/step - loss: 0.1058 - acc: 0.9923 - val_loss: 0.4513 - val_acc: 0.9173\n",
            "Epoch 100/100\n",
            "1875/1875 [==============================] - 9s 5ms/step - loss: 0.1015 - acc: 0.9932 - val_loss: 0.4550 - val_acc: 0.9218\n"
          ],
          "name": "stdout"
        },
        {
          "output_type": "execute_result",
          "data": {
            "text/plain": [
              "<tensorflow.python.keras.callbacks.History at 0x7faae29608d0>"
            ]
          },
          "metadata": {
            "tags": []
          },
          "execution_count": 140
        }
      ]
    },
    {
      "cell_type": "markdown",
      "metadata": {
        "id": "9W5tNY1nw3Y0"
      },
      "source": [
        "Plotting the loss/validation loss value over the training epochs"
      ]
    },
    {
      "cell_type": "code",
      "metadata": {
        "colab": {
          "base_uri": "https://localhost:8080/",
          "height": 282
        },
        "id": "9964tq0y-3E_",
        "outputId": "17c30be1-5ee9-43fe-de7f-17258522d5ae"
      },
      "source": [
        "CNN_fit_history = pd.DataFrame(CNN_model.history.history)\r\n",
        "CNN_fit_history[['loss', 'val_loss']].plot.line()"
      ],
      "execution_count": null,
      "outputs": [
        {
          "output_type": "execute_result",
          "data": {
            "text/plain": [
              "<matplotlib.axes._subplots.AxesSubplot at 0x7faae2a6a7b8>"
            ]
          },
          "metadata": {
            "tags": []
          },
          "execution_count": 141
        },
        {
          "output_type": "display_data",
          "data": {
            "image/png": "[encoded data removed]",
            "text/plain": [
              "<Figure size 432x288 with 1 Axes>"
            ]
          },
          "metadata": {
            "tags": [],
            "needs_background": "light"
          }
        }
      ]
    }
  ]
}